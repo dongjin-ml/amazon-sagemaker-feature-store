{
 "cells": [
  {
   "cell_type": "markdown",
   "metadata": {},
   "source": [
    "# Module 1: Introduction to SageMaker Feature Store"
   ]
  },
  {
   "cell_type": "markdown",
   "metadata": {},
   "source": [
    "**Note:** Please set kernel to `Python 3 (Data Science)` and select instance to `ml.t3.medium`"
   ]
  },
  {
   "cell_type": "markdown",
   "metadata": {},
   "source": [
    "---\n",
    "\n",
    "## Contents\n",
    "\n",
    "1. [Background](#Background)\n",
    "1. [Setup](#Setup)\n",
    "1. [Load and explore datasets](#Load-and-explore-datasets)\n",
    "1. [Create feature definitions and groups](#Create-feature-definitions-and-groups)\n",
    "1. [Ingest data into feature groups](#Ingest-data-into-feature-groups)\n",
    "1. [Get feature record from the Online feature store](#Get-feature-record-from-the-Online-feature-store)\n",
    "1. [List feature groups](#List-feature-groups)"
   ]
  },
  {
   "cell_type": "markdown",
   "metadata": {},
   "source": [
    "# Background"
   ]
  },
  {
   "cell_type": "markdown",
   "metadata": {},
   "source": [
    "이 노트북에서는 SageMaker Feature Store에서 `customers`, `products`, 그리고 `orders` 데이터셋에 대한 **3**개의 피처 그룹을 생성하는 방법을 배우게 됩니다. <BR>\n",
    "그 다음, SageMaker Python SDK를 사용하여 생성된 피처 그룹(온라인 및 오프라인 스토어 모두)에 피처 컬럼을 수집하는 방법을 학습합니다. <BR>\n",
    "또한 온라인 스토어에서 수집된 피처 레코드를 가져오는 방법도 볼 수 있습니다. <BR>\n",
    "마지막으로, Feature Store 내에 생성된 모든 피처 그룹을 나열하고 삭제하는 방법을 알게 될 것입니다. <BR>\n",
    "    \n",
    "**참고:** 이 노트북에서 생성된 피처 그룹은 앞으로의 모듈에서 사용될 예정입니다.\n"
   ]
  },
  {
   "cell_type": "markdown",
   "metadata": {},
   "source": [
    "# Setup"
   ]
  },
  {
   "cell_type": "markdown",
   "metadata": {},
   "source": [
    "#### Imports"
   ]
  },
  {
   "cell_type": "code",
   "execution_count": 65,
   "metadata": {
    "tags": []
   },
   "outputs": [],
   "source": [
    "from sagemaker.feature_store.feature_group import FeatureGroup\n",
    "from time import gmtime, strftime, sleep\n",
    "from random import randint\n",
    "import pandas as pd\n",
    "import numpy as np\n",
    "import subprocess\n",
    "import sagemaker\n",
    "import importlib\n",
    "import logging\n",
    "import time\n",
    "import sys\n",
    "from sagemaker.feature_store.inputs import TableFormatEnum"
   ]
  },
  {
   "cell_type": "code",
   "execution_count": 66,
   "metadata": {
    "tags": []
   },
   "outputs": [],
   "source": [
    "logger = logging.getLogger('__name__')\n",
    "logger.setLevel(logging.DEBUG)\n",
    "logger.addHandler(logging.StreamHandler())"
   ]
  },
  {
   "cell_type": "code",
   "execution_count": 67,
   "metadata": {
    "tags": []
   },
   "outputs": [
    {
     "name": "stderr",
     "output_type": "stream",
     "text": [
      "Using SageMaker version: 2.224.4\n",
      "Using SageMaker version: 2.224.4\n",
      "Using Pandas version: 2.1.4\n",
      "Using Pandas version: 2.1.4\n"
     ]
    }
   ],
   "source": [
    "logger.info(f'Using SageMaker version: {sagemaker.__version__}')\n",
    "logger.info(f'Using Pandas version: {pd.__version__}')"
   ]
  },
  {
   "cell_type": "markdown",
   "metadata": {},
   "source": [
    "#### Essentials"
   ]
  },
  {
   "cell_type": "code",
   "execution_count": 68,
   "metadata": {
    "tags": []
   },
   "outputs": [
    {
     "name": "stderr",
     "output_type": "stream",
     "text": [
      "Default S3 bucket = sagemaker-us-east-1-419974056037\n",
      "Default S3 bucket = sagemaker-us-east-1-419974056037\n"
     ]
    }
   ],
   "source": [
    "sagemaker_session = sagemaker.Session()\n",
    "role = sagemaker.get_execution_role()\n",
    "default_bucket = sagemaker_session.default_bucket()\n",
    "logger.info(f'Default S3 bucket = {default_bucket}')\n",
    "prefix = 'sagemaker-feature-store'"
   ]
  },
  {
   "cell_type": "code",
   "execution_count": 69,
   "metadata": {
    "tags": []
   },
   "outputs": [
    {
     "data": {
      "text/plain": [
       "'us-east-1'"
      ]
     },
     "execution_count": 69,
     "metadata": {},
     "output_type": "execute_result"
    }
   ],
   "source": [
    "region = sagemaker_session.boto_region_name\n",
    "region"
   ]
  },
  {
   "cell_type": "markdown",
   "metadata": {},
   "source": [
    "# Load and explore datasets"
   ]
  },
  {
   "cell_type": "code",
   "execution_count": 70,
   "metadata": {
    "tags": []
   },
   "outputs": [
    {
     "data": {
      "text/html": [
       "<div>\n",
       "<style scoped>\n",
       "    .dataframe tbody tr th:only-of-type {\n",
       "        vertical-align: middle;\n",
       "    }\n",
       "\n",
       "    .dataframe tbody tr th {\n",
       "        vertical-align: top;\n",
       "    }\n",
       "\n",
       "    .dataframe thead th {\n",
       "        text-align: right;\n",
       "    }\n",
       "</style>\n",
       "<table border=\"1\" class=\"dataframe\">\n",
       "  <thead>\n",
       "    <tr style=\"text-align: right;\">\n",
       "      <th></th>\n",
       "      <th>customer_id</th>\n",
       "      <th>sex</th>\n",
       "      <th>is_married</th>\n",
       "      <th>event_time</th>\n",
       "      <th>age_18-29</th>\n",
       "      <th>age_30-39</th>\n",
       "      <th>age_40-49</th>\n",
       "      <th>age_50-59</th>\n",
       "      <th>age_60-69</th>\n",
       "      <th>age_70-plus</th>\n",
       "      <th>n_days_active</th>\n",
       "    </tr>\n",
       "  </thead>\n",
       "  <tbody>\n",
       "    <tr>\n",
       "      <th>0</th>\n",
       "      <td>C1</td>\n",
       "      <td>0</td>\n",
       "      <td>0</td>\n",
       "      <td>2024-07-04T22:32:32.766Z</td>\n",
       "      <td>False</td>\n",
       "      <td>False</td>\n",
       "      <td>False</td>\n",
       "      <td>True</td>\n",
       "      <td>False</td>\n",
       "      <td>False</td>\n",
       "      <td>0.083562</td>\n",
       "    </tr>\n",
       "    <tr>\n",
       "      <th>1</th>\n",
       "      <td>C2</td>\n",
       "      <td>1</td>\n",
       "      <td>0</td>\n",
       "      <td>2024-07-04T22:32:32.767Z</td>\n",
       "      <td>True</td>\n",
       "      <td>False</td>\n",
       "      <td>False</td>\n",
       "      <td>False</td>\n",
       "      <td>False</td>\n",
       "      <td>False</td>\n",
       "      <td>0.659589</td>\n",
       "    </tr>\n",
       "    <tr>\n",
       "      <th>2</th>\n",
       "      <td>C3</td>\n",
       "      <td>1</td>\n",
       "      <td>1</td>\n",
       "      <td>2024-07-04T22:32:32.769Z</td>\n",
       "      <td>False</td>\n",
       "      <td>False</td>\n",
       "      <td>False</td>\n",
       "      <td>False</td>\n",
       "      <td>True</td>\n",
       "      <td>False</td>\n",
       "      <td>0.402055</td>\n",
       "    </tr>\n",
       "    <tr>\n",
       "      <th>3</th>\n",
       "      <td>C4</td>\n",
       "      <td>1</td>\n",
       "      <td>0</td>\n",
       "      <td>2024-07-04T22:32:32.770Z</td>\n",
       "      <td>False</td>\n",
       "      <td>False</td>\n",
       "      <td>False</td>\n",
       "      <td>True</td>\n",
       "      <td>False</td>\n",
       "      <td>False</td>\n",
       "      <td>0.708904</td>\n",
       "    </tr>\n",
       "    <tr>\n",
       "      <th>4</th>\n",
       "      <td>C5</td>\n",
       "      <td>1</td>\n",
       "      <td>1</td>\n",
       "      <td>2024-07-04T22:32:32.772Z</td>\n",
       "      <td>False</td>\n",
       "      <td>True</td>\n",
       "      <td>False</td>\n",
       "      <td>False</td>\n",
       "      <td>False</td>\n",
       "      <td>False</td>\n",
       "      <td>0.765753</td>\n",
       "    </tr>\n",
       "  </tbody>\n",
       "</table>\n",
       "</div>"
      ],
      "text/plain": [
       "  customer_id  sex  is_married                event_time  age_18-29  \\\n",
       "0          C1    0           0  2024-07-04T22:32:32.766Z      False   \n",
       "1          C2    1           0  2024-07-04T22:32:32.767Z       True   \n",
       "2          C3    1           1  2024-07-04T22:32:32.769Z      False   \n",
       "3          C4    1           0  2024-07-04T22:32:32.770Z      False   \n",
       "4          C5    1           1  2024-07-04T22:32:32.772Z      False   \n",
       "\n",
       "   age_30-39  age_40-49  age_50-59  age_60-69  age_70-plus  n_days_active  \n",
       "0      False      False       True      False        False       0.083562  \n",
       "1      False      False      False      False        False       0.659589  \n",
       "2      False      False      False       True        False       0.402055  \n",
       "3      False      False       True      False        False       0.708904  \n",
       "4       True      False      False      False        False       0.765753  "
      ]
     },
     "execution_count": 70,
     "metadata": {},
     "output_type": "execute_result"
    }
   ],
   "source": [
    "customers_df = pd.read_csv('./data/customers.csv')\n",
    "customers_df.head(5)"
   ]
  },
  {
   "cell_type": "code",
   "execution_count": 71,
   "metadata": {
    "tags": []
   },
   "outputs": [
    {
     "data": {
      "text/plain": [
       "customer_id       object\n",
       "sex                int64\n",
       "is_married         int64\n",
       "event_time        object\n",
       "age_18-29           bool\n",
       "age_30-39           bool\n",
       "age_40-49           bool\n",
       "age_50-59           bool\n",
       "age_60-69           bool\n",
       "age_70-plus         bool\n",
       "n_days_active    float64\n",
       "dtype: object"
      ]
     },
     "execution_count": 71,
     "metadata": {},
     "output_type": "execute_result"
    }
   ],
   "source": [
    "customers_df.dtypes"
   ]
  },
  {
   "cell_type": "markdown",
   "metadata": {
    "tags": []
   },
   "source": [
    "## dtype 변환\n",
    "\n",
    "**Data types for feature store**\n",
    "\n",
    "- **String Feature Type:** Strings are Unicode with UTF-8 binary encoding. The minimum length of a string can be zero, the maximum length is constrained by the maximum size of a record.\n",
    "\n",
    "- **Fractional Feature Type:** Fractional feature values must conform to a double precision floating point number as defined by the IEEE 754 standard.\n",
    "\n",
    "- **Integral Feature Type:** Feature Store supports integral values in the range of a 64-bit signed integer. Minimum value of -263 and a maximum value: 263 - 1.\n",
    "\n",
    "- **Event Time Features:** All feature groups have an event time feature with nanosecond precision. Any event time with lower than nanosecond precision will lead to backwards incompatibility. The feature can have a feature type of either String or Fractional.\n",
    "\n",
    "    - A string event time is accepted in **ISO-8601** format, in UTC time, conforming to the pattern(s): `[yyyy-MM-dd'T'HH:mm:ssZ, yyyy-MM-dd'T'HH:mm:ss.SSSSSSSSSZ]`.\n",
    "\n",
    "    - A fractional event time value is accepted as seconds from unix epoch. Event times must be in the range of [0000-01-01T00:00:00.000000000Z, 9999-12-31T23:59:59.999999999Z]. For feature groups in the Iceberg table format, you can only use String type for the event time."
   ]
  },
  {
   "cell_type": "code",
   "execution_count": 72,
   "metadata": {
    "tags": []
   },
   "outputs": [],
   "source": [
    "customers_df = customers_df.convert_dtypes(infer_objects=True, convert_boolean=False)"
   ]
  },
  {
   "cell_type": "markdown",
   "metadata": {},
   "source": [
    "convert_dtypes는 dypte 자동 추론해주는 기능 (https://wikidocs.net/151423)"
   ]
  },
  {
   "cell_type": "code",
   "execution_count": 73,
   "metadata": {
    "tags": []
   },
   "outputs": [],
   "source": [
    "customers_df['customer_id'] = customers_df['customer_id'].astype('string')\n",
    "customers_df['event_time'] = customers_df['event_time'].astype('string')"
   ]
  },
  {
   "cell_type": "code",
   "execution_count": 74,
   "metadata": {
    "tags": []
   },
   "outputs": [
    {
     "data": {
      "text/plain": [
       "customer_id      string[python]\n",
       "sex                       Int64\n",
       "is_married                Int64\n",
       "event_time       string[python]\n",
       "age_18-29                 Int64\n",
       "age_30-39                 Int64\n",
       "age_40-49                 Int64\n",
       "age_50-59                 Int64\n",
       "age_60-69                 Int64\n",
       "age_70-plus               Int64\n",
       "n_days_active           Float64\n",
       "dtype: object"
      ]
     },
     "execution_count": 74,
     "metadata": {},
     "output_type": "execute_result"
    }
   ],
   "source": [
    "customers_df.dtypes"
   ]
  },
  {
   "cell_type": "code",
   "execution_count": 75,
   "metadata": {
    "tags": []
   },
   "outputs": [
    {
     "data": {
      "text/html": [
       "<div>\n",
       "<style scoped>\n",
       "    .dataframe tbody tr th:only-of-type {\n",
       "        vertical-align: middle;\n",
       "    }\n",
       "\n",
       "    .dataframe tbody tr th {\n",
       "        vertical-align: top;\n",
       "    }\n",
       "\n",
       "    .dataframe thead th {\n",
       "        text-align: right;\n",
       "    }\n",
       "</style>\n",
       "<table border=\"1\" class=\"dataframe\">\n",
       "  <thead>\n",
       "    <tr style=\"text-align: right;\">\n",
       "      <th></th>\n",
       "      <th>product_id</th>\n",
       "      <th>event_time</th>\n",
       "      <th>category_baby_food_formula</th>\n",
       "      <th>category_baking_ingredients</th>\n",
       "      <th>category_candy_chocolate</th>\n",
       "      <th>category_chips_pretzels</th>\n",
       "      <th>category_cleaning_products</th>\n",
       "      <th>category_coffee</th>\n",
       "      <th>category_cookies_cakes</th>\n",
       "      <th>category_crackers</th>\n",
       "      <th>...</th>\n",
       "      <th>category_hair_care</th>\n",
       "      <th>category_ice_cream_ice</th>\n",
       "      <th>category_juice_nectars</th>\n",
       "      <th>category_packaged_cheese</th>\n",
       "      <th>category_refrigerated</th>\n",
       "      <th>category_soup_broth_bouillon</th>\n",
       "      <th>category_spices_seasonings</th>\n",
       "      <th>category_tea</th>\n",
       "      <th>category_vitamins_supplements</th>\n",
       "      <th>category_yogurt</th>\n",
       "    </tr>\n",
       "  </thead>\n",
       "  <tbody>\n",
       "    <tr>\n",
       "      <th>0</th>\n",
       "      <td>P1</td>\n",
       "      <td>2024-07-04T22:34:32.391Z</td>\n",
       "      <td>False</td>\n",
       "      <td>False</td>\n",
       "      <td>False</td>\n",
       "      <td>False</td>\n",
       "      <td>False</td>\n",
       "      <td>False</td>\n",
       "      <td>True</td>\n",
       "      <td>False</td>\n",
       "      <td>...</td>\n",
       "      <td>False</td>\n",
       "      <td>False</td>\n",
       "      <td>False</td>\n",
       "      <td>False</td>\n",
       "      <td>False</td>\n",
       "      <td>False</td>\n",
       "      <td>False</td>\n",
       "      <td>False</td>\n",
       "      <td>False</td>\n",
       "      <td>False</td>\n",
       "    </tr>\n",
       "    <tr>\n",
       "      <th>1</th>\n",
       "      <td>P2</td>\n",
       "      <td>2024-07-04T22:34:32.392Z</td>\n",
       "      <td>False</td>\n",
       "      <td>False</td>\n",
       "      <td>False</td>\n",
       "      <td>False</td>\n",
       "      <td>False</td>\n",
       "      <td>False</td>\n",
       "      <td>False</td>\n",
       "      <td>False</td>\n",
       "      <td>...</td>\n",
       "      <td>False</td>\n",
       "      <td>False</td>\n",
       "      <td>False</td>\n",
       "      <td>False</td>\n",
       "      <td>False</td>\n",
       "      <td>False</td>\n",
       "      <td>True</td>\n",
       "      <td>False</td>\n",
       "      <td>False</td>\n",
       "      <td>False</td>\n",
       "    </tr>\n",
       "    <tr>\n",
       "      <th>2</th>\n",
       "      <td>P3</td>\n",
       "      <td>2024-07-04T22:34:32.392Z</td>\n",
       "      <td>False</td>\n",
       "      <td>False</td>\n",
       "      <td>False</td>\n",
       "      <td>False</td>\n",
       "      <td>False</td>\n",
       "      <td>False</td>\n",
       "      <td>False</td>\n",
       "      <td>False</td>\n",
       "      <td>...</td>\n",
       "      <td>False</td>\n",
       "      <td>False</td>\n",
       "      <td>False</td>\n",
       "      <td>False</td>\n",
       "      <td>False</td>\n",
       "      <td>False</td>\n",
       "      <td>False</td>\n",
       "      <td>True</td>\n",
       "      <td>False</td>\n",
       "      <td>False</td>\n",
       "    </tr>\n",
       "    <tr>\n",
       "      <th>3</th>\n",
       "      <td>P4</td>\n",
       "      <td>2024-07-04T22:34:32.392Z</td>\n",
       "      <td>False</td>\n",
       "      <td>False</td>\n",
       "      <td>False</td>\n",
       "      <td>False</td>\n",
       "      <td>False</td>\n",
       "      <td>False</td>\n",
       "      <td>False</td>\n",
       "      <td>False</td>\n",
       "      <td>...</td>\n",
       "      <td>False</td>\n",
       "      <td>False</td>\n",
       "      <td>False</td>\n",
       "      <td>False</td>\n",
       "      <td>False</td>\n",
       "      <td>False</td>\n",
       "      <td>False</td>\n",
       "      <td>False</td>\n",
       "      <td>False</td>\n",
       "      <td>False</td>\n",
       "    </tr>\n",
       "    <tr>\n",
       "      <th>4</th>\n",
       "      <td>P5</td>\n",
       "      <td>2024-07-04T22:34:32.392Z</td>\n",
       "      <td>False</td>\n",
       "      <td>False</td>\n",
       "      <td>False</td>\n",
       "      <td>False</td>\n",
       "      <td>False</td>\n",
       "      <td>False</td>\n",
       "      <td>False</td>\n",
       "      <td>False</td>\n",
       "      <td>...</td>\n",
       "      <td>False</td>\n",
       "      <td>False</td>\n",
       "      <td>True</td>\n",
       "      <td>False</td>\n",
       "      <td>False</td>\n",
       "      <td>False</td>\n",
       "      <td>False</td>\n",
       "      <td>False</td>\n",
       "      <td>False</td>\n",
       "      <td>False</td>\n",
       "    </tr>\n",
       "  </tbody>\n",
       "</table>\n",
       "<p>5 rows × 22 columns</p>\n",
       "</div>"
      ],
      "text/plain": [
       "  product_id                event_time  category_baby_food_formula  \\\n",
       "0         P1  2024-07-04T22:34:32.391Z                       False   \n",
       "1         P2  2024-07-04T22:34:32.392Z                       False   \n",
       "2         P3  2024-07-04T22:34:32.392Z                       False   \n",
       "3         P4  2024-07-04T22:34:32.392Z                       False   \n",
       "4         P5  2024-07-04T22:34:32.392Z                       False   \n",
       "\n",
       "   category_baking_ingredients  category_candy_chocolate  \\\n",
       "0                        False                     False   \n",
       "1                        False                     False   \n",
       "2                        False                     False   \n",
       "3                        False                     False   \n",
       "4                        False                     False   \n",
       "\n",
       "   category_chips_pretzels  category_cleaning_products  category_coffee  \\\n",
       "0                    False                       False            False   \n",
       "1                    False                       False            False   \n",
       "2                    False                       False            False   \n",
       "3                    False                       False            False   \n",
       "4                    False                       False            False   \n",
       "\n",
       "   category_cookies_cakes  category_crackers  ...  category_hair_care  \\\n",
       "0                    True              False  ...               False   \n",
       "1                   False              False  ...               False   \n",
       "2                   False              False  ...               False   \n",
       "3                   False              False  ...               False   \n",
       "4                   False              False  ...               False   \n",
       "\n",
       "   category_ice_cream_ice  category_juice_nectars  category_packaged_cheese  \\\n",
       "0                   False                   False                     False   \n",
       "1                   False                   False                     False   \n",
       "2                   False                   False                     False   \n",
       "3                   False                   False                     False   \n",
       "4                   False                    True                     False   \n",
       "\n",
       "   category_refrigerated  category_soup_broth_bouillon  \\\n",
       "0                  False                         False   \n",
       "1                  False                         False   \n",
       "2                  False                         False   \n",
       "3                  False                         False   \n",
       "4                  False                         False   \n",
       "\n",
       "   category_spices_seasonings  category_tea  category_vitamins_supplements  \\\n",
       "0                       False         False                          False   \n",
       "1                        True         False                          False   \n",
       "2                       False          True                          False   \n",
       "3                       False         False                          False   \n",
       "4                       False         False                          False   \n",
       "\n",
       "   category_yogurt  \n",
       "0            False  \n",
       "1            False  \n",
       "2            False  \n",
       "3            False  \n",
       "4            False  \n",
       "\n",
       "[5 rows x 22 columns]"
      ]
     },
     "execution_count": 75,
     "metadata": {},
     "output_type": "execute_result"
    }
   ],
   "source": [
    "products_df = pd.read_csv('./data/products.csv')\n",
    "products_df.head(5)"
   ]
  },
  {
   "cell_type": "code",
   "execution_count": 76,
   "metadata": {
    "tags": []
   },
   "outputs": [],
   "source": [
    "products_df = products_df.convert_dtypes(infer_objects=True, convert_boolean=False)"
   ]
  },
  {
   "cell_type": "code",
   "execution_count": 77,
   "metadata": {
    "tags": []
   },
   "outputs": [],
   "source": [
    "products_df['product_id'] = products_df['product_id'].astype('string')\n",
    "products_df['event_time'] = products_df['event_time'].astype('string')"
   ]
  },
  {
   "cell_type": "code",
   "execution_count": 78,
   "metadata": {
    "tags": []
   },
   "outputs": [
    {
     "data": {
      "text/plain": [
       "product_id                       string[python]\n",
       "event_time                       string[python]\n",
       "category_baby_food_formula                Int64\n",
       "category_baking_ingredients               Int64\n",
       "category_candy_chocolate                  Int64\n",
       "category_chips_pretzels                   Int64\n",
       "category_cleaning_products                Int64\n",
       "category_coffee                           Int64\n",
       "category_cookies_cakes                    Int64\n",
       "category_crackers                         Int64\n",
       "category_energy_granola_bars              Int64\n",
       "category_frozen_meals                     Int64\n",
       "category_hair_care                        Int64\n",
       "category_ice_cream_ice                    Int64\n",
       "category_juice_nectars                    Int64\n",
       "category_packaged_cheese                  Int64\n",
       "category_refrigerated                     Int64\n",
       "category_soup_broth_bouillon              Int64\n",
       "category_spices_seasonings                Int64\n",
       "category_tea                              Int64\n",
       "category_vitamins_supplements             Int64\n",
       "category_yogurt                           Int64\n",
       "dtype: object"
      ]
     },
     "execution_count": 78,
     "metadata": {},
     "output_type": "execute_result"
    }
   ],
   "source": [
    "products_df.dtypes"
   ]
  },
  {
   "cell_type": "code",
   "execution_count": 79,
   "metadata": {
    "tags": []
   },
   "outputs": [
    {
     "data": {
      "text/html": [
       "<div>\n",
       "<style scoped>\n",
       "    .dataframe tbody tr th:only-of-type {\n",
       "        vertical-align: middle;\n",
       "    }\n",
       "\n",
       "    .dataframe tbody tr th {\n",
       "        vertical-align: top;\n",
       "    }\n",
       "\n",
       "    .dataframe thead th {\n",
       "        text-align: right;\n",
       "    }\n",
       "</style>\n",
       "<table border=\"1\" class=\"dataframe\">\n",
       "  <thead>\n",
       "    <tr style=\"text-align: right;\">\n",
       "      <th></th>\n",
       "      <th>order_id</th>\n",
       "      <th>customer_id</th>\n",
       "      <th>product_id</th>\n",
       "      <th>purchase_amount</th>\n",
       "      <th>is_reordered</th>\n",
       "      <th>event_time</th>\n",
       "      <th>n_days_since_last_purchase</th>\n",
       "    </tr>\n",
       "  </thead>\n",
       "  <tbody>\n",
       "    <tr>\n",
       "      <th>0</th>\n",
       "      <td>O1</td>\n",
       "      <td>C5731</td>\n",
       "      <td>P16</td>\n",
       "      <td>0.913465</td>\n",
       "      <td>1</td>\n",
       "      <td>2024-07-04T22:35:15.644Z</td>\n",
       "      <td>0.201550</td>\n",
       "    </tr>\n",
       "    <tr>\n",
       "      <th>1</th>\n",
       "      <td>O2</td>\n",
       "      <td>C3541</td>\n",
       "      <td>P12802</td>\n",
       "      <td>0.663168</td>\n",
       "      <td>1</td>\n",
       "      <td>2024-07-04T22:35:15.644Z</td>\n",
       "      <td>0.575581</td>\n",
       "    </tr>\n",
       "    <tr>\n",
       "      <th>2</th>\n",
       "      <td>O3</td>\n",
       "      <td>C7402</td>\n",
       "      <td>P8320</td>\n",
       "      <td>0.629604</td>\n",
       "      <td>1</td>\n",
       "      <td>2024-07-04T22:35:15.644Z</td>\n",
       "      <td>0.073643</td>\n",
       "    </tr>\n",
       "    <tr>\n",
       "      <th>3</th>\n",
       "      <td>O4</td>\n",
       "      <td>C7356</td>\n",
       "      <td>P5165</td>\n",
       "      <td>0.618911</td>\n",
       "      <td>0</td>\n",
       "      <td>2024-07-04T22:35:15.644Z</td>\n",
       "      <td>0.552326</td>\n",
       "    </tr>\n",
       "    <tr>\n",
       "      <th>4</th>\n",
       "      <td>O5</td>\n",
       "      <td>C5806</td>\n",
       "      <td>P12940</td>\n",
       "      <td>0.053168</td>\n",
       "      <td>1</td>\n",
       "      <td>2024-07-04T22:35:15.644Z</td>\n",
       "      <td>0.616279</td>\n",
       "    </tr>\n",
       "    <tr>\n",
       "      <th>...</th>\n",
       "      <td>...</td>\n",
       "      <td>...</td>\n",
       "      <td>...</td>\n",
       "      <td>...</td>\n",
       "      <td>...</td>\n",
       "      <td>...</td>\n",
       "      <td>...</td>\n",
       "    </tr>\n",
       "    <tr>\n",
       "      <th>99995</th>\n",
       "      <td>O99996</td>\n",
       "      <td>C7167</td>\n",
       "      <td>P10590</td>\n",
       "      <td>0.896040</td>\n",
       "      <td>0</td>\n",
       "      <td>2024-07-04T22:35:20.940Z</td>\n",
       "      <td>0.044574</td>\n",
       "    </tr>\n",
       "    <tr>\n",
       "      <th>99996</th>\n",
       "      <td>O99997</td>\n",
       "      <td>C3642</td>\n",
       "      <td>P6210</td>\n",
       "      <td>0.129109</td>\n",
       "      <td>1</td>\n",
       "      <td>2024-07-04T22:35:20.940Z</td>\n",
       "      <td>0.589147</td>\n",
       "    </tr>\n",
       "    <tr>\n",
       "      <th>99997</th>\n",
       "      <td>O99998</td>\n",
       "      <td>C6145</td>\n",
       "      <td>P5740</td>\n",
       "      <td>0.825050</td>\n",
       "      <td>1</td>\n",
       "      <td>2024-07-04T22:35:20.940Z</td>\n",
       "      <td>0.798450</td>\n",
       "    </tr>\n",
       "    <tr>\n",
       "      <th>99998</th>\n",
       "      <td>O99999</td>\n",
       "      <td>C7567</td>\n",
       "      <td>P14942</td>\n",
       "      <td>0.602772</td>\n",
       "      <td>1</td>\n",
       "      <td>2024-07-04T22:35:20.940Z</td>\n",
       "      <td>0.775194</td>\n",
       "    </tr>\n",
       "    <tr>\n",
       "      <th>99999</th>\n",
       "      <td>O100000</td>\n",
       "      <td>C3417</td>\n",
       "      <td>P1772</td>\n",
       "      <td>0.987921</td>\n",
       "      <td>1</td>\n",
       "      <td>2024-07-04T22:35:20.940Z</td>\n",
       "      <td>0.868217</td>\n",
       "    </tr>\n",
       "  </tbody>\n",
       "</table>\n",
       "<p>100000 rows × 7 columns</p>\n",
       "</div>"
      ],
      "text/plain": [
       "      order_id customer_id product_id  purchase_amount  is_reordered  \\\n",
       "0           O1       C5731        P16         0.913465             1   \n",
       "1           O2       C3541     P12802         0.663168             1   \n",
       "2           O3       C7402      P8320         0.629604             1   \n",
       "3           O4       C7356      P5165         0.618911             0   \n",
       "4           O5       C5806     P12940         0.053168             1   \n",
       "...        ...         ...        ...              ...           ...   \n",
       "99995   O99996       C7167     P10590         0.896040             0   \n",
       "99996   O99997       C3642      P6210         0.129109             1   \n",
       "99997   O99998       C6145      P5740         0.825050             1   \n",
       "99998   O99999       C7567     P14942         0.602772             1   \n",
       "99999  O100000       C3417      P1772         0.987921             1   \n",
       "\n",
       "                     event_time  n_days_since_last_purchase  \n",
       "0      2024-07-04T22:35:15.644Z                    0.201550  \n",
       "1      2024-07-04T22:35:15.644Z                    0.575581  \n",
       "2      2024-07-04T22:35:15.644Z                    0.073643  \n",
       "3      2024-07-04T22:35:15.644Z                    0.552326  \n",
       "4      2024-07-04T22:35:15.644Z                    0.616279  \n",
       "...                         ...                         ...  \n",
       "99995  2024-07-04T22:35:20.940Z                    0.044574  \n",
       "99996  2024-07-04T22:35:20.940Z                    0.589147  \n",
       "99997  2024-07-04T22:35:20.940Z                    0.798450  \n",
       "99998  2024-07-04T22:35:20.940Z                    0.775194  \n",
       "99999  2024-07-04T22:35:20.940Z                    0.868217  \n",
       "\n",
       "[100000 rows x 7 columns]"
      ]
     },
     "execution_count": 79,
     "metadata": {},
     "output_type": "execute_result"
    }
   ],
   "source": [
    "orders_df = pd.read_csv('./data/orders.csv')\n",
    "orders_df"
   ]
  },
  {
   "cell_type": "code",
   "execution_count": 80,
   "metadata": {
    "tags": []
   },
   "outputs": [],
   "source": [
    "orders_df = orders_df.convert_dtypes(infer_objects=True, convert_boolean=False)"
   ]
  },
  {
   "cell_type": "code",
   "execution_count": 81,
   "metadata": {
    "tags": []
   },
   "outputs": [],
   "source": [
    "orders_df['order_id'] = orders_df['order_id'].astype('string')\n",
    "orders_df['customer_id'] = orders_df['customer_id'].astype('string')\n",
    "orders_df['product_id'] = orders_df['product_id'].astype('string')\n",
    "orders_df['event_time'] = orders_df['event_time'].astype('string')"
   ]
  },
  {
   "cell_type": "code",
   "execution_count": 82,
   "metadata": {
    "tags": []
   },
   "outputs": [
    {
     "data": {
      "text/plain": [
       "order_id                      string[python]\n",
       "customer_id                   string[python]\n",
       "product_id                    string[python]\n",
       "purchase_amount                      Float64\n",
       "is_reordered                           Int64\n",
       "event_time                    string[python]\n",
       "n_days_since_last_purchase           Float64\n",
       "dtype: object"
      ]
     },
     "execution_count": 82,
     "metadata": {},
     "output_type": "execute_result"
    }
   ],
   "source": [
    "orders_df.dtypes"
   ]
  },
  {
   "cell_type": "code",
   "execution_count": 83,
   "metadata": {
    "tags": []
   },
   "outputs": [
    {
     "name": "stdout",
     "output_type": "stream",
     "text": [
      "Stored 'customers_count' (int)\n",
      "Stored 'products_count' (int)\n",
      "Stored 'orders_count' (int)\n"
     ]
    }
   ],
   "source": [
    "customers_count = customers_df.shape[0]\n",
    "%store customers_count\n",
    "products_count = products_df.shape[0]\n",
    "%store products_count\n",
    "orders_count = orders_df.shape[0]\n",
    "%store orders_count"
   ]
  },
  {
   "cell_type": "code",
   "execution_count": 84,
   "metadata": {
    "tags": []
   },
   "outputs": [
    {
     "name": "stdout",
     "output_type": "stream",
     "text": [
      "customers_count: 10000, products_count: 17001, orders_count:100000\n"
     ]
    }
   ],
   "source": [
    "print (f'customers_count: {customers_count}, products_count: {products_count}, orders_count:{orders_count}')"
   ]
  },
  {
   "cell_type": "markdown",
   "metadata": {},
   "source": [
    "# Create feature definitions and groups"
   ]
  },
  {
   "cell_type": "markdown",
   "metadata": {
    "tags": []
   },
   "source": [
    "## Feature group name"
   ]
  },
  {
   "cell_type": "code",
   "execution_count": 85,
   "metadata": {
    "tags": []
   },
   "outputs": [],
   "source": [
    "import pytz\n",
    "from datetime import datetime "
   ]
  },
  {
   "cell_type": "code",
   "execution_count": 221,
   "metadata": {
    "tags": []
   },
   "outputs": [],
   "source": [
    "def get_korea_time():\n",
    "    # 한국 시간대 설정\n",
    "    korea_tz = pytz.timezone('Asia/Seoul')\n",
    "    \n",
    "    # 현재 시간을 한국 시간으로 변환\n",
    "    korea_time = datetime.now(korea_tz).strftime('%m-%d-%H-%M')\n",
    "        \n",
    "    return korea_time\n",
    "\n",
    "def get_event_time():\n",
    "    korea_tz = pytz.timezone('Asia/Seoul')\n",
    "    korea_time = datetime.now(korea_tz).strftime(\"%Y-%m-%dT%H:%M:%S.%f\")[:-3] + \"Z\"\n",
    "\n",
    "    return korea_time"
   ]
  },
  {
   "cell_type": "code",
   "execution_count": null,
   "metadata": {},
   "outputs": [],
   "source": [
    "from datetime import datetime\n",
    "import pytz\n",
    "\n",
    "# 현재 시간을 UTC로 가져오기\n",
    "utc_now = datetime.now(pytz.UTC)\n",
    "\n",
    "# ISO 8601 형식으로 포맷팅\n",
    "formatted_time = utc_now.strftime(\"%Y-%m-%dT%H:%M:%S.%f\")[:-3] + \"Z\"\n",
    "\n",
    "print(formatted_time)"
   ]
  },
  {
   "cell_type": "code",
   "execution_count": 87,
   "metadata": {
    "tags": []
   },
   "outputs": [],
   "source": [
    "current_timestamp = get_korea_time()"
   ]
  },
  {
   "cell_type": "code",
   "execution_count": 88,
   "metadata": {
    "tags": []
   },
   "outputs": [],
   "source": [
    "# prefix to track all the feature groups created as part of feature store workshop (fsw)\n",
    "fs_prefix = 'fsw-' "
   ]
  },
  {
   "cell_type": "code",
   "execution_count": 89,
   "metadata": {
    "tags": []
   },
   "outputs": [
    {
     "name": "stdout",
     "output_type": "stream",
     "text": [
      "Stored 'customers_feature_group_name' (str)\n",
      "Stored 'products_feature_group_name' (str)\n",
      "Stored 'orders_feature_group_name' (str)\n"
     ]
    }
   ],
   "source": [
    "customers_feature_group_name = f'{fs_prefix}customers-{current_timestamp}'\n",
    "%store customers_feature_group_name\n",
    "products_feature_group_name = f'{fs_prefix}products-{current_timestamp}'\n",
    "%store products_feature_group_name\n",
    "orders_feature_group_name = f'{fs_prefix}orders-{current_timestamp}'\n",
    "%store orders_feature_group_name"
   ]
  },
  {
   "cell_type": "code",
   "execution_count": 90,
   "metadata": {
    "tags": []
   },
   "outputs": [
    {
     "name": "stderr",
     "output_type": "stream",
     "text": [
      "Customers feature group name = fsw-customers-07-14-13-54\n",
      "Customers feature group name = fsw-customers-07-14-13-54\n",
      "Products feature group name = fsw-products-07-14-13-54\n",
      "Products feature group name = fsw-products-07-14-13-54\n",
      "Orders feature group name = fsw-orders-07-14-13-54\n",
      "Orders feature group name = fsw-orders-07-14-13-54\n"
     ]
    }
   ],
   "source": [
    "logger.info(f'Customers feature group name = {customers_feature_group_name}')\n",
    "logger.info(f'Products feature group name = {products_feature_group_name}')\n",
    "logger.info(f'Orders feature group name = {orders_feature_group_name}')"
   ]
  },
  {
   "cell_type": "markdown",
   "metadata": {},
   "source": [
    "## Feature groups"
   ]
  },
  {
   "cell_type": "code",
   "execution_count": 91,
   "metadata": {
    "tags": []
   },
   "outputs": [],
   "source": [
    "customers_feature_group = FeatureGroup(\n",
    "    name=customers_feature_group_name,\n",
    "    sagemaker_session=sagemaker_session\n",
    ")\n",
    "products_feature_group = FeatureGroup(\n",
    "    name=products_feature_group_name,\n",
    "    sagemaker_session=sagemaker_session\n",
    ")\n",
    "orders_feature_group = FeatureGroup(\n",
    "    name=orders_feature_group_name,\n",
    "    sagemaker_session=sagemaker_session\n",
    ")"
   ]
  },
  {
   "cell_type": "markdown",
   "metadata": {},
   "source": [
    "### Feature group definitions (dtypes..)\n",
    " - df를 넣어 줌으로써, df에 정의된 dtype으로 feature type을 셋팅"
   ]
  },
  {
   "cell_type": "code",
   "execution_count": 95,
   "metadata": {
    "tags": []
   },
   "outputs": [
    {
     "data": {
      "text/plain": [
       "[FeatureDefinition(feature_name='customer_id', feature_type=<FeatureTypeEnum.STRING: 'String'>, collection_type=None),\n",
       " FeatureDefinition(feature_name='sex', feature_type=<FeatureTypeEnum.INTEGRAL: 'Integral'>, collection_type=None),\n",
       " FeatureDefinition(feature_name='is_married', feature_type=<FeatureTypeEnum.INTEGRAL: 'Integral'>, collection_type=None),\n",
       " FeatureDefinition(feature_name='event_time', feature_type=<FeatureTypeEnum.STRING: 'String'>, collection_type=None),\n",
       " FeatureDefinition(feature_name='age_18-29', feature_type=<FeatureTypeEnum.INTEGRAL: 'Integral'>, collection_type=None),\n",
       " FeatureDefinition(feature_name='age_30-39', feature_type=<FeatureTypeEnum.INTEGRAL: 'Integral'>, collection_type=None),\n",
       " FeatureDefinition(feature_name='age_40-49', feature_type=<FeatureTypeEnum.INTEGRAL: 'Integral'>, collection_type=None),\n",
       " FeatureDefinition(feature_name='age_50-59', feature_type=<FeatureTypeEnum.INTEGRAL: 'Integral'>, collection_type=None),\n",
       " FeatureDefinition(feature_name='age_60-69', feature_type=<FeatureTypeEnum.INTEGRAL: 'Integral'>, collection_type=None),\n",
       " FeatureDefinition(feature_name='age_70-plus', feature_type=<FeatureTypeEnum.INTEGRAL: 'Integral'>, collection_type=None),\n",
       " FeatureDefinition(feature_name='n_days_active', feature_type=<FeatureTypeEnum.FRACTIONAL: 'Fractional'>, collection_type=None)]"
      ]
     },
     "execution_count": 95,
     "metadata": {},
     "output_type": "execute_result"
    }
   ],
   "source": [
    "customers_feature_group.load_feature_definitions(data_frame=customers_df)"
   ]
  },
  {
   "cell_type": "code",
   "execution_count": 96,
   "metadata": {
    "tags": []
   },
   "outputs": [
    {
     "data": {
      "text/plain": [
       "[FeatureDefinition(feature_name='product_id', feature_type=<FeatureTypeEnum.STRING: 'String'>, collection_type=None),\n",
       " FeatureDefinition(feature_name='event_time', feature_type=<FeatureTypeEnum.STRING: 'String'>, collection_type=None),\n",
       " FeatureDefinition(feature_name='category_baby_food_formula', feature_type=<FeatureTypeEnum.INTEGRAL: 'Integral'>, collection_type=None),\n",
       " FeatureDefinition(feature_name='category_baking_ingredients', feature_type=<FeatureTypeEnum.INTEGRAL: 'Integral'>, collection_type=None),\n",
       " FeatureDefinition(feature_name='category_candy_chocolate', feature_type=<FeatureTypeEnum.INTEGRAL: 'Integral'>, collection_type=None),\n",
       " FeatureDefinition(feature_name='category_chips_pretzels', feature_type=<FeatureTypeEnum.INTEGRAL: 'Integral'>, collection_type=None),\n",
       " FeatureDefinition(feature_name='category_cleaning_products', feature_type=<FeatureTypeEnum.INTEGRAL: 'Integral'>, collection_type=None),\n",
       " FeatureDefinition(feature_name='category_coffee', feature_type=<FeatureTypeEnum.INTEGRAL: 'Integral'>, collection_type=None),\n",
       " FeatureDefinition(feature_name='category_cookies_cakes', feature_type=<FeatureTypeEnum.INTEGRAL: 'Integral'>, collection_type=None),\n",
       " FeatureDefinition(feature_name='category_crackers', feature_type=<FeatureTypeEnum.INTEGRAL: 'Integral'>, collection_type=None),\n",
       " FeatureDefinition(feature_name='category_energy_granola_bars', feature_type=<FeatureTypeEnum.INTEGRAL: 'Integral'>, collection_type=None),\n",
       " FeatureDefinition(feature_name='category_frozen_meals', feature_type=<FeatureTypeEnum.INTEGRAL: 'Integral'>, collection_type=None),\n",
       " FeatureDefinition(feature_name='category_hair_care', feature_type=<FeatureTypeEnum.INTEGRAL: 'Integral'>, collection_type=None),\n",
       " FeatureDefinition(feature_name='category_ice_cream_ice', feature_type=<FeatureTypeEnum.INTEGRAL: 'Integral'>, collection_type=None),\n",
       " FeatureDefinition(feature_name='category_juice_nectars', feature_type=<FeatureTypeEnum.INTEGRAL: 'Integral'>, collection_type=None),\n",
       " FeatureDefinition(feature_name='category_packaged_cheese', feature_type=<FeatureTypeEnum.INTEGRAL: 'Integral'>, collection_type=None),\n",
       " FeatureDefinition(feature_name='category_refrigerated', feature_type=<FeatureTypeEnum.INTEGRAL: 'Integral'>, collection_type=None),\n",
       " FeatureDefinition(feature_name='category_soup_broth_bouillon', feature_type=<FeatureTypeEnum.INTEGRAL: 'Integral'>, collection_type=None),\n",
       " FeatureDefinition(feature_name='category_spices_seasonings', feature_type=<FeatureTypeEnum.INTEGRAL: 'Integral'>, collection_type=None),\n",
       " FeatureDefinition(feature_name='category_tea', feature_type=<FeatureTypeEnum.INTEGRAL: 'Integral'>, collection_type=None),\n",
       " FeatureDefinition(feature_name='category_vitamins_supplements', feature_type=<FeatureTypeEnum.INTEGRAL: 'Integral'>, collection_type=None),\n",
       " FeatureDefinition(feature_name='category_yogurt', feature_type=<FeatureTypeEnum.INTEGRAL: 'Integral'>, collection_type=None)]"
      ]
     },
     "execution_count": 96,
     "metadata": {},
     "output_type": "execute_result"
    }
   ],
   "source": [
    "products_feature_group.load_feature_definitions(data_frame=products_df)"
   ]
  },
  {
   "cell_type": "code",
   "execution_count": 97,
   "metadata": {
    "tags": []
   },
   "outputs": [
    {
     "data": {
      "text/plain": [
       "[FeatureDefinition(feature_name='order_id', feature_type=<FeatureTypeEnum.STRING: 'String'>, collection_type=None),\n",
       " FeatureDefinition(feature_name='customer_id', feature_type=<FeatureTypeEnum.STRING: 'String'>, collection_type=None),\n",
       " FeatureDefinition(feature_name='product_id', feature_type=<FeatureTypeEnum.STRING: 'String'>, collection_type=None),\n",
       " FeatureDefinition(feature_name='purchase_amount', feature_type=<FeatureTypeEnum.FRACTIONAL: 'Fractional'>, collection_type=None),\n",
       " FeatureDefinition(feature_name='is_reordered', feature_type=<FeatureTypeEnum.INTEGRAL: 'Integral'>, collection_type=None),\n",
       " FeatureDefinition(feature_name='event_time', feature_type=<FeatureTypeEnum.STRING: 'String'>, collection_type=None),\n",
       " FeatureDefinition(feature_name='n_days_since_last_purchase', feature_type=<FeatureTypeEnum.FRACTIONAL: 'Fractional'>, collection_type=None)]"
      ]
     },
     "execution_count": 97,
     "metadata": {},
     "output_type": "execute_result"
    }
   ],
   "source": [
    "orders_feature_group.load_feature_definitions(data_frame=orders_df)"
   ]
  },
  {
   "cell_type": "markdown",
   "metadata": {},
   "source": [
    "### Creat feature groups"
   ]
  },
  {
   "cell_type": "markdown",
   "metadata": {},
   "source": [
    "Amazon SageMaker Feature Store는 오프라인 스토어를 위해 AWS Glue와 Apache Iceberg 테이블 형식을 지원합니다. 새로운 feature group을 생성할 때 테이블 형식을 선택할 수 있습니다.\n",
    "이 노트북에서는 Iceberg 테이블 형식을 사용할 것입니다. Apache Iceberg를 사용하여 feature를 저장하면 Iceberg 테이블 압축의 이점을 활용하여 ML 학습 데이터셋을 추출할 때 더 빠른 쿼리 성능을 제공함으로써 모델 개발을 가속화합니다. feature group의 설계와 규모에 따라 이 새로운 기능을 사용하면 학습 쿼리 성능이 10배에서 100배까지 향상될 수 있습니다.\n",
    "Glue 테이블 형식을 사용해야 하는 경우, 아래 변수를 'Glue'로 업데이트하세요. 오프라인 스토어 형식에 대한 자세한 정보는 문서를 참조하십시오.\"\n",
    "이 텍스트는 SageMaker Feature Store의 오프라인 스토어 옵션에 대해 설명하고 있으며, 특히 Apache Iceberg 형식의 이점을 강조하고 있습니다. 또한 사용자가 필요에 따라 Glue 형식을 선택할 수 있는 옵션도 제공하고 있습니다."
   ]
  },
  {
   "cell_type": "markdown",
   "metadata": {},
   "source": [
    "https://docs.aws.amazon.com/sagemaker/latest/dg/feature-store-storage-configurations-offline-store.html\n",
    "Glue 테이블 형식\n",
    "Glue 형식(기본값)은 AWS Glue를 위한 표준 Hive 타입 테이블 형식입니다. AWS Glue를 사용하면 여러 소스에서 데이터를 발견, 준비, 이동 및 통합할 수 있습니다. 또한 작업 작성, 실행 및 비즈니스 워크플로우 구현을 위한 추가적인 생산성 및 데이터 운영 도구를 포함합니다. AWS Glue에 대한 자세한 정보는 AWS Glue란 무엇인가?를 참조하세요.\n",
    "Iceberg 테이블 형식\n",
    "Iceberg 형식(권장)은 매우 큰 분석 테이블을 위한 개방형 테이블 형식입니다. Iceberg를 사용하면 파티션 내의 작은 데이터 파일들을 더 적은 수의 큰 파일로 압축할 수 있어, 쿼리 속도가 크게 향상됩니다. 이 압축 작업은 동시에 이루어지며 피처 그룹의 진행 중인 읽기 및 쓰기 작업에 영향을 미치지 않습니다. Iceberg 테이블 최적화에 대한 자세한 정보는 Amazon Athena 및 AWS Lake Formation 사용 안내서를 참조하세요.\n",
    "Iceberg는 대규모 파일 모음을 테이블로 관리하며 현대적인 분석 데이터 레이크 작업을 지원합니다. 새 피처 그룹을 만들 때 Iceberg 옵션을 선택하면, Amazon SageMaker Feature Store는 Parquet 파일 형식을 사용하여 Iceberg 테이블을 생성하고, 이 테이블을 AWS Glue Data Catalog에 등록합니다. Iceberg 테이블 형식에 대한 자세한 정보는 Apache Iceberg 테이블 사용하기를 참조하세요."
   ]
  },
  {
   "cell_type": "markdown",
   "metadata": {
    "tags": []
   },
   "source": [
    "생성 시 **enable_online_store=True**로 해야 oline store enalblemnt 된다."
   ]
  },
  {
   "cell_type": "code",
   "execution_count": 98,
   "metadata": {
    "tags": []
   },
   "outputs": [],
   "source": [
    "table_format_param = 'ICEBERG' # or 'GLUE'"
   ]
  },
  {
   "cell_type": "code",
   "execution_count": 99,
   "metadata": {
    "tags": []
   },
   "outputs": [],
   "source": [
    "if table_format_param == 'ICEBERG':\n",
    "    table_format = TableFormatEnum.ICEBERG\n",
    "else:\n",
    "    table_format = TableFormatEnum.GLUE"
   ]
  },
  {
   "cell_type": "code",
   "execution_count": 100,
   "metadata": {
    "tags": []
   },
   "outputs": [],
   "source": [
    "def wait_for_feature_group_creation_complete(feature_group):\n",
    "    status = feature_group.describe().get('FeatureGroupStatus')\n",
    "    print(f'Initial status: {status}')\n",
    "    while status == 'Creating':\n",
    "        logger.info(f'Waiting for feature group: {feature_group.name} to be created ...')\n",
    "        time.sleep(5)\n",
    "        status = feature_group.describe().get('FeatureGroupStatus')\n",
    "    if status != 'Created':\n",
    "        raise SystemExit(f'Failed to create feature group {feature_group.name}: {status}')\n",
    "    logger.info(f'FeatureGroup {feature_group.name} was successfully created.')"
   ]
  },
  {
   "cell_type": "code",
   "execution_count": 101,
   "metadata": {
    "tags": []
   },
   "outputs": [
    {
     "data": {
      "text/plain": [
       "{'FeatureGroupArn': 'arn:aws:sagemaker:us-east-1:419974056037:feature-group/fsw-customers-07-14-13-54',\n",
       " 'ResponseMetadata': {'RequestId': '62b551e3-e81f-48a8-8f28-20844e2f63b1',\n",
       "  'HTTPStatusCode': 200,\n",
       "  'HTTPHeaders': {'x-amzn-requestid': '62b551e3-e81f-48a8-8f28-20844e2f63b1',\n",
       "   'content-type': 'application/x-amz-json-1.1',\n",
       "   'content-length': '102',\n",
       "   'date': 'Sun, 14 Jul 2024 04:56:29 GMT'},\n",
       "  'RetryAttempts': 0}}"
      ]
     },
     "execution_count": 101,
     "metadata": {},
     "output_type": "execute_result"
    }
   ],
   "source": [
    "customers_feature_group.create(\n",
    "    s3_uri=f's3://{default_bucket}/{prefix}', \n",
    "    record_identifier_name='customer_id', ## key 값 \n",
    "    event_time_feature_name='event_time', ## event time (timestamp)\n",
    "    role_arn=role, ## sagemaker role\n",
    "    enable_online_store=True, ## oline store enalblemnt\n",
    "    table_format=table_format \n",
    ")"
   ]
  },
  {
   "cell_type": "code",
   "execution_count": 102,
   "metadata": {
    "tags": []
   },
   "outputs": [
    {
     "name": "stderr",
     "output_type": "stream",
     "text": [
      "Waiting for feature group: fsw-customers-07-14-13-54 to be created ...\n",
      "Waiting for feature group: fsw-customers-07-14-13-54 to be created ...\n"
     ]
    },
    {
     "name": "stdout",
     "output_type": "stream",
     "text": [
      "Initial status: Creating\n"
     ]
    },
    {
     "name": "stderr",
     "output_type": "stream",
     "text": [
      "Waiting for feature group: fsw-customers-07-14-13-54 to be created ...\n",
      "Waiting for feature group: fsw-customers-07-14-13-54 to be created ...\n",
      "Waiting for feature group: fsw-customers-07-14-13-54 to be created ...\n",
      "Waiting for feature group: fsw-customers-07-14-13-54 to be created ...\n",
      "FeatureGroup fsw-customers-07-14-13-54 was successfully created.\n",
      "FeatureGroup fsw-customers-07-14-13-54 was successfully created.\n"
     ]
    }
   ],
   "source": [
    "wait_for_feature_group_creation_complete(customers_feature_group)"
   ]
  },
  {
   "cell_type": "code",
   "execution_count": 103,
   "metadata": {
    "tags": []
   },
   "outputs": [
    {
     "data": {
      "text/plain": [
       "{'FeatureGroupArn': 'arn:aws:sagemaker:us-east-1:419974056037:feature-group/fsw-products-07-14-13-54',\n",
       " 'ResponseMetadata': {'RequestId': '5fdcc0d9-21bd-46ac-b333-d065db2ac86d',\n",
       "  'HTTPStatusCode': 200,\n",
       "  'HTTPHeaders': {'x-amzn-requestid': '5fdcc0d9-21bd-46ac-b333-d065db2ac86d',\n",
       "   'content-type': 'application/x-amz-json-1.1',\n",
       "   'content-length': '101',\n",
       "   'date': 'Sun, 14 Jul 2024 04:59:19 GMT'},\n",
       "  'RetryAttempts': 0}}"
      ]
     },
     "execution_count": 103,
     "metadata": {},
     "output_type": "execute_result"
    }
   ],
   "source": [
    "products_feature_group.create(\n",
    "    s3_uri=f's3://{default_bucket}/{prefix}', \n",
    "    record_identifier_name='product_id', \n",
    "    event_time_feature_name='event_time', \n",
    "    role_arn=role, \n",
    "    enable_online_store=True,\n",
    "    table_format=TableFormatEnum.ICEBERG # or 'GLUE'\n",
    " )"
   ]
  },
  {
   "cell_type": "code",
   "execution_count": 104,
   "metadata": {
    "tags": []
   },
   "outputs": [
    {
     "name": "stderr",
     "output_type": "stream",
     "text": [
      "Waiting for feature group: fsw-products-07-14-13-54 to be created ...\n",
      "Waiting for feature group: fsw-products-07-14-13-54 to be created ...\n"
     ]
    },
    {
     "name": "stdout",
     "output_type": "stream",
     "text": [
      "Initial status: Creating\n"
     ]
    },
    {
     "name": "stderr",
     "output_type": "stream",
     "text": [
      "Waiting for feature group: fsw-products-07-14-13-54 to be created ...\n",
      "Waiting for feature group: fsw-products-07-14-13-54 to be created ...\n",
      "Waiting for feature group: fsw-products-07-14-13-54 to be created ...\n",
      "Waiting for feature group: fsw-products-07-14-13-54 to be created ...\n",
      "Waiting for feature group: fsw-products-07-14-13-54 to be created ...\n",
      "Waiting for feature group: fsw-products-07-14-13-54 to be created ...\n",
      "FeatureGroup fsw-products-07-14-13-54 was successfully created.\n",
      "FeatureGroup fsw-products-07-14-13-54 was successfully created.\n"
     ]
    }
   ],
   "source": [
    "wait_for_feature_group_creation_complete(products_feature_group)"
   ]
  },
  {
   "cell_type": "code",
   "execution_count": 105,
   "metadata": {
    "tags": []
   },
   "outputs": [
    {
     "data": {
      "text/plain": [
       "{'FeatureGroupArn': 'arn:aws:sagemaker:us-east-1:419974056037:feature-group/fsw-orders-07-14-13-54',\n",
       " 'ResponseMetadata': {'RequestId': 'f84dcf9f-cc25-42a0-8c6a-f571c40c0bb2',\n",
       "  'HTTPStatusCode': 200,\n",
       "  'HTTPHeaders': {'x-amzn-requestid': 'f84dcf9f-cc25-42a0-8c6a-f571c40c0bb2',\n",
       "   'content-type': 'application/x-amz-json-1.1',\n",
       "   'content-length': '99',\n",
       "   'date': 'Sun, 14 Jul 2024 04:59:40 GMT'},\n",
       "  'RetryAttempts': 0}}"
      ]
     },
     "execution_count": 105,
     "metadata": {},
     "output_type": "execute_result"
    }
   ],
   "source": [
    "orders_feature_group.create(\n",
    "    s3_uri=f's3://{default_bucket}/{prefix}', \n",
    "    record_identifier_name='order_id', \n",
    "    event_time_feature_name='event_time', \n",
    "    role_arn=role, \n",
    "    enable_online_store=True,\n",
    "    table_format=TableFormatEnum.ICEBERG # or 'GLUE'\n",
    ")"
   ]
  },
  {
   "cell_type": "code",
   "execution_count": 106,
   "metadata": {
    "tags": []
   },
   "outputs": [
    {
     "name": "stderr",
     "output_type": "stream",
     "text": [
      "Waiting for feature group: fsw-orders-07-14-13-54 to be created ...\n",
      "Waiting for feature group: fsw-orders-07-14-13-54 to be created ...\n"
     ]
    },
    {
     "name": "stdout",
     "output_type": "stream",
     "text": [
      "Initial status: Creating\n"
     ]
    },
    {
     "name": "stderr",
     "output_type": "stream",
     "text": [
      "Waiting for feature group: fsw-orders-07-14-13-54 to be created ...\n",
      "Waiting for feature group: fsw-orders-07-14-13-54 to be created ...\n",
      "Waiting for feature group: fsw-orders-07-14-13-54 to be created ...\n",
      "Waiting for feature group: fsw-orders-07-14-13-54 to be created ...\n",
      "Waiting for feature group: fsw-orders-07-14-13-54 to be created ...\n",
      "Waiting for feature group: fsw-orders-07-14-13-54 to be created ...\n",
      "FeatureGroup fsw-orders-07-14-13-54 was successfully created.\n",
      "FeatureGroup fsw-orders-07-14-13-54 was successfully created.\n"
     ]
    }
   ],
   "source": [
    "wait_for_feature_group_creation_complete(orders_feature_group)"
   ]
  },
  {
   "cell_type": "markdown",
   "metadata": {},
   "source": [
    "# Ingest data into feature groups "
   ]
  },
  {
   "cell_type": "markdown",
   "metadata": {},
   "source": [
    "## Using ingest(): 대량의 데이터를 Feature Store에 효율적으로 수집하는 데 사용됩니다.\n",
    "- data는 s3에 저장됩니다. (저장 경로는 feature group 생성(create()) 시 셋팅할 수 있습니다)\n",
    "- top으로 보여주기"
   ]
  },
  {
   "cell_type": "code",
   "execution_count": 107,
   "metadata": {
    "tags": []
   },
   "outputs": [
    {
     "name": "stderr",
     "output_type": "stream",
     "text": [
      "Ingesting data into feature group: fsw-customers-07-14-13-54 ...\n",
      "Ingesting data into feature group: fsw-customers-07-14-13-54 ...\n",
      "10000 customer records ingested into feature group: fsw-customers-07-14-13-54\n",
      "10000 customer records ingested into feature group: fsw-customers-07-14-13-54\n"
     ]
    },
    {
     "name": "stdout",
     "output_type": "stream",
     "text": [
      "CPU times: user 280 ms, sys: 275 ms, total: 555 ms\n",
      "Wall time: 15.3 s\n"
     ]
    }
   ],
   "source": [
    "%%time\n",
    "\n",
    "logger.info(f'Ingesting data into feature group: {customers_feature_group.name} ...')\n",
    "customers_feature_group.ingest(\n",
    "    data_frame=customers_df,\n",
    "    max_processes=16, # the number of processes will be created to work on different partitions of the data_frame in parallel\n",
    "    wait=True\n",
    ")\n",
    "logger.info(f'{len(customers_df)} customer records ingested into feature group: {customers_feature_group.name}')"
   ]
  },
  {
   "cell_type": "code",
   "execution_count": 108,
   "metadata": {
    "tags": []
   },
   "outputs": [
    {
     "name": "stderr",
     "output_type": "stream",
     "text": [
      "Ingesting data into feature group: fsw-products-07-14-13-54 ...\n",
      "Ingesting data into feature group: fsw-products-07-14-13-54 ...\n",
      "17001 product records ingested into feature group: fsw-products-07-14-13-54\n",
      "17001 product records ingested into feature group: fsw-products-07-14-13-54\n"
     ]
    },
    {
     "name": "stdout",
     "output_type": "stream",
     "text": [
      "CPU times: user 356 ms, sys: 309 ms, total: 665 ms\n",
      "Wall time: 27.5 s\n"
     ]
    }
   ],
   "source": [
    "%%time\n",
    "\n",
    "logger.info(f'Ingesting data into feature group: {products_feature_group.name} ...')\n",
    "products_feature_group.ingest(\n",
    "    data_frame=products_df,\n",
    "    max_processes=16,\n",
    "    wait=True\n",
    ")\n",
    "logger.info(f'{len(products_df)} product records ingested into feature group: {products_feature_group.name}')  "
   ]
  },
  {
   "cell_type": "code",
   "execution_count": 109,
   "metadata": {
    "tags": []
   },
   "outputs": [
    {
     "name": "stderr",
     "output_type": "stream",
     "text": [
      "Ingesting data into feature group: fsw-orders-07-14-13-54 ...\n",
      "Ingesting data into feature group: fsw-orders-07-14-13-54 ...\n",
      "100000 order records ingested into feature group: fsw-orders-07-14-13-54\n",
      "100000 order records ingested into feature group: fsw-orders-07-14-13-54\n"
     ]
    },
    {
     "name": "stdout",
     "output_type": "stream",
     "text": [
      "CPU times: user 1.87 s, sys: 309 ms, total: 2.18 s\n",
      "Wall time: 2min 7s\n"
     ]
    }
   ],
   "source": [
    "%%time\n",
    "\n",
    "logger.info(f'Ingesting data into feature group: {orders_feature_group.name} ...')\n",
    "orders_feature_group.ingest(\n",
    "    data_frame=orders_df,\n",
    "    max_processes=16,\n",
    "    wait=True\n",
    ")\n",
    "logger.info(f'{len(orders_df)} order records ingested into feature group: {orders_feature_group.name}')"
   ]
  },
  {
   "cell_type": "markdown",
   "metadata": {
    "tags": []
   },
   "source": [
    "## Using put_record(): 단일 레코드를 Feature Store에 추가하는 데 사용됩니다."
   ]
  },
  {
   "cell_type": "code",
   "execution_count": 185,
   "metadata": {
    "tags": []
   },
   "outputs": [],
   "source": [
    "featurestore_runtime_client = sagemaker_session.boto_session.client(\n",
    "    'sagemaker-featurestore-runtime',\n",
    "    region_name=region\n",
    ")"
   ]
  },
  {
   "cell_type": "code",
   "execution_count": 226,
   "metadata": {
    "tags": []
   },
   "outputs": [
    {
     "data": {
      "text/plain": [
       "[{'FeatureName': 'customer_id', 'ValueAsString': 'C19841011'},\n",
       " {'FeatureName': 'sex', 'ValueAsString': '0'},\n",
       " {'FeatureName': 'is_married', 'ValueAsString': '0'},\n",
       " {'FeatureName': 'event_time', 'ValueAsString': '2024-07-14T15:13:46.689Z'},\n",
       " {'FeatureName': 'age_18-29', 'ValueAsString': '0'},\n",
       " {'FeatureName': 'age_30-39', 'ValueAsString': '1'},\n",
       " {'FeatureName': 'age_40-49', 'ValueAsString': '0'},\n",
       " {'FeatureName': 'age_50-59', 'ValueAsString': '0'},\n",
       " {'FeatureName': 'age_60-69', 'ValueAsString': '0'},\n",
       " {'FeatureName': 'age_70-plus', 'ValueAsString': '0'},\n",
       " {'FeatureName': 'n_days_active', 'ValueAsString': '0.19841013'}]"
      ]
     },
     "execution_count": 226,
     "metadata": {},
     "output_type": "execute_result"
    }
   ],
   "source": [
    "record = [\n",
    "    {'FeatureName': 'customer_id', 'ValueAsString': 'C19841011'},\n",
    "    {'FeatureName': 'sex', 'ValueAsString': '0'},\n",
    "    {'FeatureName': 'is_married', 'ValueAsString': '0'},\n",
    "    {'FeatureName': 'event_time', 'ValueAsString': get_event_time()},\n",
    "    {'FeatureName': 'age_18-29', 'ValueAsString': '0'},\n",
    "    {'FeatureName': 'age_30-39', 'ValueAsString': '1'},\n",
    "    {'FeatureName': 'age_40-49', 'ValueAsString': '0'},\n",
    "    {'FeatureName': 'age_50-59', 'ValueAsString': '0'},\n",
    "    {'FeatureName': 'age_60-69', 'ValueAsString': '0'},\n",
    "    {'FeatureName': 'age_70-plus', 'ValueAsString': '0'},\n",
    "    {'FeatureName': 'n_days_active', 'ValueAsString': '0.19841013'}]\n",
    "record"
   ]
  },
  {
   "cell_type": "code",
   "execution_count": 227,
   "metadata": {
    "tags": []
   },
   "outputs": [
    {
     "data": {
      "text/plain": [
       "{'ResponseMetadata': {'RequestId': '73738a57-3610-4719-bba5-440ff7f21d2c',\n",
       "  'HTTPStatusCode': 200,\n",
       "  'HTTPHeaders': {'x-amzn-requestid': '73738a57-3610-4719-bba5-440ff7f21d2c',\n",
       "   'content-type': 'application/json',\n",
       "   'content-length': '0',\n",
       "   'date': 'Sun, 14 Jul 2024 06:13:50 GMT'},\n",
       "  'RetryAttempts': 0}}"
      ]
     },
     "execution_count": 227,
     "metadata": {},
     "output_type": "execute_result"
    }
   ],
   "source": [
    "featurestore_runtime_client.put_record(\n",
    "    FeatureGroupName=customers_feature_group_name,\n",
    "    Record=record,\n",
    "    TargetStores=['OnlineStore', 'OfflineStore']\n",
    ")\n",
    "    "
   ]
  },
  {
   "cell_type": "markdown",
   "metadata": {},
   "source": [
    "# Get feature record from the Online feature store "
   ]
  },
  {
   "cell_type": "code",
   "execution_count": 228,
   "metadata": {
    "tags": []
   },
   "outputs": [],
   "source": [
    "featurestore_runtime_client = sagemaker_session.boto_session.client(\n",
    "    'sagemaker-featurestore-runtime',\n",
    "    region_name=region\n",
    ")"
   ]
  },
  {
   "cell_type": "markdown",
   "metadata": {},
   "source": [
    "Retrieve a record from customers feature group"
   ]
  },
  {
   "cell_type": "code",
   "execution_count": 229,
   "metadata": {
    "tags": []
   },
   "outputs": [
    {
     "name": "stderr",
     "output_type": "stream",
     "text": [
      "customer_id=C19841011\n",
      "customer_id=C19841011\n"
     ]
    }
   ],
   "source": [
    "customer_id =  f'C{randint(1, 10000)}'\n",
    "customer_id = \"C19841011\"\n",
    "logger.info(f'customer_id={customer_id}') "
   ]
  },
  {
   "cell_type": "markdown",
   "metadata": {
    "tags": []
   },
   "source": [
    "### Using get_record(): 단건 조회"
   ]
  },
  {
   "cell_type": "code",
   "execution_count": 230,
   "metadata": {
    "tags": []
   },
   "outputs": [
    {
     "data": {
      "text/plain": [
       "{'ResponseMetadata': {'RequestId': '30461c02-87aa-4e00-8190-55943069b6cd',\n",
       "  'HTTPStatusCode': 200,\n",
       "  'HTTPHeaders': {'x-amzn-requestid': '30461c02-87aa-4e00-8190-55943069b6cd',\n",
       "   'content-type': 'application/json',\n",
       "   'content-length': '876',\n",
       "   'date': 'Sun, 14 Jul 2024 06:13:55 GMT'},\n",
       "  'RetryAttempts': 0},\n",
       " 'Record': [{'FeatureName': 'customer_id', 'ValueAsString': 'C19841011'},\n",
       "  {'FeatureName': 'sex', 'ValueAsString': '0'},\n",
       "  {'FeatureName': 'is_married', 'ValueAsString': '0'},\n",
       "  {'FeatureName': 'event_time', 'ValueAsString': '2024-07-14T15:13:46.689Z'},\n",
       "  {'FeatureName': 'age_18-29', 'ValueAsString': '0'},\n",
       "  {'FeatureName': 'age_30-39', 'ValueAsString': '1'},\n",
       "  {'FeatureName': 'age_40-49', 'ValueAsString': '0'},\n",
       "  {'FeatureName': 'age_50-59', 'ValueAsString': '0'},\n",
       "  {'FeatureName': 'age_60-69', 'ValueAsString': '0'},\n",
       "  {'FeatureName': 'age_70-plus', 'ValueAsString': '0'},\n",
       "  {'FeatureName': 'n_days_active', 'ValueAsString': '0.19841013'}]}"
      ]
     },
     "execution_count": 230,
     "metadata": {},
     "output_type": "execute_result"
    }
   ],
   "source": [
    "feature_record = featurestore_runtime_client.get_record(\n",
    "    FeatureGroupName=customers_feature_group_name, \n",
    "    RecordIdentifierValueAsString=customer_id\n",
    ")\n",
    "feature_record"
   ]
  },
  {
   "cell_type": "markdown",
   "metadata": {},
   "source": [
    "### Using batch_get_record(): 다건 조회"
   ]
  },
  {
   "cell_type": "code",
   "execution_count": 123,
   "metadata": {
    "tags": []
   },
   "outputs": [],
   "source": [
    "customer_ids = ['C19841010', 'C19841011', 'C9']"
   ]
  },
  {
   "cell_type": "code",
   "execution_count": 124,
   "metadata": {
    "tags": []
   },
   "outputs": [
    {
     "data": {
      "text/plain": [
       "{'ResponseMetadata': {'RequestId': '4cd28f5e-4dc8-4c1f-a74a-83604332c282',\n",
       "  'HTTPStatusCode': 200,\n",
       "  'HTTPHeaders': {'x-amzn-requestid': '4cd28f5e-4dc8-4c1f-a74a-83604332c282',\n",
       "   'content-type': 'application/json',\n",
       "   'content-length': '1983',\n",
       "   'date': 'Sun, 14 Jul 2024 05:06:06 GMT'},\n",
       "  'RetryAttempts': 0},\n",
       " 'Records': [{'FeatureGroupName': 'fsw-customers-07-14-13-54',\n",
       "   'RecordIdentifierValueAsString': 'C19841011',\n",
       "   'Record': [{'FeatureName': 'customer_id', 'ValueAsString': 'C19841011'},\n",
       "    {'FeatureName': 'sex', 'ValueAsString': '0'},\n",
       "    {'FeatureName': 'is_married', 'ValueAsString': '0'},\n",
       "    {'FeatureName': 'event_time', 'ValueAsString': '2024-07-04T22:32:36.987Z'},\n",
       "    {'FeatureName': 'age_18-29', 'ValueAsString': '0'},\n",
       "    {'FeatureName': 'age_30-39', 'ValueAsString': '1'},\n",
       "    {'FeatureName': 'age_40-49', 'ValueAsString': '0'},\n",
       "    {'FeatureName': 'age_50-59', 'ValueAsString': '0'},\n",
       "    {'FeatureName': 'age_60-69', 'ValueAsString': '0'},\n",
       "    {'FeatureName': 'age_70-plus', 'ValueAsString': '0'},\n",
       "    {'FeatureName': 'n_days_active', 'ValueAsString': '0.19841012'}]},\n",
       "  {'FeatureGroupName': 'fsw-customers-07-14-13-54',\n",
       "   'RecordIdentifierValueAsString': 'C9',\n",
       "   'Record': [{'FeatureName': 'customer_id', 'ValueAsString': 'C9'},\n",
       "    {'FeatureName': 'sex', 'ValueAsString': '1'},\n",
       "    {'FeatureName': 'is_married', 'ValueAsString': '0'},\n",
       "    {'FeatureName': 'event_time', 'ValueAsString': '2024-07-04T22:32:32.777Z'},\n",
       "    {'FeatureName': 'age_18-29', 'ValueAsString': '0'},\n",
       "    {'FeatureName': 'age_30-39', 'ValueAsString': '0'},\n",
       "    {'FeatureName': 'age_40-49', 'ValueAsString': '0'},\n",
       "    {'FeatureName': 'age_50-59', 'ValueAsString': '0'},\n",
       "    {'FeatureName': 'age_60-69', 'ValueAsString': '0'},\n",
       "    {'FeatureName': 'age_70-plus', 'ValueAsString': '1'},\n",
       "    {'FeatureName': 'n_days_active', 'ValueAsString': '0.8178082191780822'}]}],\n",
       " 'Errors': [],\n",
       " 'UnprocessedIdentifiers': []}"
      ]
     },
     "execution_count": 124,
     "metadata": {},
     "output_type": "execute_result"
    }
   ],
   "source": [
    "feature_records = featurestore_runtime_client.batch_get_record(\n",
    "    Identifiers=[\n",
    "        {\n",
    "            'FeatureGroupName':customers_feature_group_name, \n",
    "            'RecordIdentifiersValueAsString':customer_ids\n",
    "        }\n",
    "    ]\n",
    ")\n",
    "\n",
    "feature_records\n"
   ]
  },
  {
   "cell_type": "markdown",
   "metadata": {},
   "source": [
    "# Query to offline store"
   ]
  },
  {
   "cell_type": "markdown",
   "metadata": {},
   "source": [
    "## Initialize boto3 runtime"
   ]
  },
  {
   "cell_type": "code",
   "execution_count": 125,
   "metadata": {
    "tags": []
   },
   "outputs": [],
   "source": [
    "import boto3\n",
    "from utils import Utils"
   ]
  },
  {
   "cell_type": "code",
   "execution_count": 126,
   "metadata": {
    "tags": []
   },
   "outputs": [],
   "source": [
    "boto_session = boto3.Session(region_name=region)\n",
    "sagemaker_client = boto_session.client(\n",
    "    service_name='sagemaker',\n",
    "    region_name=region\n",
    ")\n",
    "\n",
    "featurestore_runtime = boto_session.client(\n",
    "    service_name='sagemaker-featurestore-runtime',\n",
    "    region_name=region\n",
    ")\n",
    "\n",
    "feature_store_session = sagemaker.Session(\n",
    "    boto_session=boto_session, \n",
    "    sagemaker_client=sagemaker_client, \n",
    "    sagemaker_featurestore_runtime_client=featurestore_runtime\n",
    ")"
   ]
  },
  {
   "cell_type": "markdown",
   "metadata": {},
   "source": [
    "### feature group setting"
   ]
  },
  {
   "cell_type": "code",
   "execution_count": 127,
   "metadata": {
    "tags": []
   },
   "outputs": [],
   "source": [
    "customers_fg = FeatureGroup(name=customers_feature_group_name, sagemaker_session=feature_store_session)  \n",
    "products_fg = FeatureGroup(name=products_feature_group_name, sagemaker_session=feature_store_session)\n",
    "orders_fg = FeatureGroup(name=orders_feature_group_name, sagemaker_session=feature_store_session)"
   ]
  },
  {
   "cell_type": "markdown",
   "metadata": {
    "tags": []
   },
   "source": [
    "### Build Athena join query to combine the 3 features groups - `customers`, `products` & `orders`"
   ]
  },
  {
   "cell_type": "code",
   "execution_count": 138,
   "metadata": {
    "tags": []
   },
   "outputs": [],
   "source": [
    "customers_query = customers_fg.athena_query()\n",
    "customers_table = customers_query.table_name\n",
    "\n",
    "products_query = products_fg.athena_query()\n",
    "products_table = products_query.table_name\n",
    "\n",
    "orders_query = orders_fg.athena_query()\n",
    "orders_table = orders_query.table_name"
   ]
  },
  {
   "cell_type": "code",
   "execution_count": 139,
   "metadata": {
    "tags": []
   },
   "outputs": [
    {
     "name": "stdout",
     "output_type": "stream",
     "text": [
      "customers_table: fsw_customers_07_14_13_54_1720932989\n",
      "products_table: fsw_products_07_14_13_54_1720933159\n",
      "orders_table: fsw_orders_07_14_13_54_1720933180\n"
     ]
    }
   ],
   "source": [
    "print (f'customers_table: {customers_table}\\nproducts_table: {products_table}\\norders_table: {orders_table}')"
   ]
  },
  {
   "cell_type": "code",
   "execution_count": 140,
   "metadata": {
    "tags": []
   },
   "outputs": [
    {
     "name": "stdout",
     "output_type": "stream",
     "text": [
      "Stored 'query_string' (str)\n",
      "SELECT * FROM \"fsw_customers_07_14_13_54_1720932989\", \"fsw_products_07_14_13_54_1720933159\", \"fsw_orders_07_14_13_54_1720933180\" WHERE (\"fsw_orders_07_14_13_54_1720933180\".\"customer_id\" = \"fsw_customers_07_14_13_54_1720932989\".\"customer_id\") AND (\"fsw_orders_07_14_13_54_1720933180\".\"product_id\" = \"fsw_products_07_14_13_54_1720933159\".\"product_id\")\n"
     ]
    }
   ],
   "source": [
    "query_string = f'SELECT * FROM \"{customers_table}\", \"{products_table}\", \"{orders_table}\" ' \\\n",
    "               f'WHERE (\"{orders_table}\".\"customer_id\" = \"{customers_table}\".\"customer_id\") ' \\\n",
    "               f'AND (\"{orders_table}\".\"product_id\" = \"{products_table}\".\"product_id\")'\n",
    "%store query_string\n",
    "print (query_string)"
   ]
  },
  {
   "cell_type": "code",
   "execution_count": 211,
   "metadata": {
    "tags": []
   },
   "outputs": [],
   "source": [
    "query_string = f'SELECT * FROM \"{customers_table}\"'"
   ]
  },
  {
   "cell_type": "code",
   "execution_count": 142,
   "metadata": {
    "tags": []
   },
   "outputs": [
    {
     "name": "stdout",
     "output_type": "stream",
     "text": [
      "Athena query output location: \n",
      "s3://sagemaker-us-east-1-419974056037/sagemaker-featurestore-workshop/query_results/\n"
     ]
    }
   ],
   "source": [
    "query_results= 'sagemaker-featurestore-workshop'\n",
    "output_location = f's3://{default_bucket}/{query_results}/query_results/'\n",
    "print(f'Athena query output location: \\n{output_location}')"
   ]
  },
  {
   "cell_type": "markdown",
   "metadata": {
    "tags": []
   },
   "source": [
    "### Check to see if data is available in offline store."
   ]
  },
  {
   "cell_type": "code",
   "execution_count": 205,
   "metadata": {
    "tags": []
   },
   "outputs": [
    {
     "name": "stderr",
     "output_type": "stream",
     "text": [
      "[Features are available in Offline Store!]\n",
      "[Features are available in Offline Store!]\n"
     ]
    }
   ],
   "source": [
    "# Before extracting the data we need to check if the feature store was populated\n",
    "offline_store_contents = None\n",
    "while offline_store_contents is None:    \n",
    "    customers_total_record_count = Utils.get_historical_record_count(customers_feature_group_name)\n",
    "    products_total_record_count = Utils.get_historical_record_count(products_feature_group_name)\n",
    "    orders_total_record_count = Utils.get_historical_record_count(orders_feature_group_name)\n",
    "    if customers_total_record_count >= customers_count and \\\n",
    "        products_total_record_count >= products_count and \\\n",
    "        orders_total_record_count >= orders_count:\n",
    "        logger.info('[Features are available in Offline Store!]')\n",
    "        offline_store_contents = orders_total_record_count\n",
    "    else:\n",
    "        logger.info('[Waiting for data in Offline Store ...]')\n",
    "        time.sleep(60)"
   ]
  },
  {
   "cell_type": "markdown",
   "metadata": {
    "tags": []
   },
   "source": [
    "### Run Athena query and load the output as a Pandas dataframe."
   ]
  },
  {
   "cell_type": "markdown",
   "metadata": {
    "tags": []
   },
   "source": [
    "Amazon SageMaker Feature Store에서 `write_time`, `api_invocation_time`, `is_deleted` 세 컬럼은 시스템에서 자동으로 관리되는 메타데이터 컬럼입니다. 각각의 의미는 다음과 같습니다:\n",
    "\n",
    "1. `write_time`:\n",
    "   - 레코드가 Feature Store에 실제로 기록된 시간을 나타냅니다.\n",
    "   - Unix 타임스탬프 형식으로 저장됩니다.\n",
    "   - 이 값은 데이터가 Feature Store에 성공적으로 저장된 정확한 시점을 나타냅니다.\n",
    "\n",
    "2. `api_invocation_time`:\n",
    "   - Feature Store API가 호출된 시간을 나타냅니다.\n",
    "   - Unix 타임스탬프 형식으로 저장됩니다.\n",
    "   - 이 값은 클라이언트가 데이터를 추가하거나 업데이트하기 위해 API를 호출한 시점을 나타냅니다.\n",
    "   - `write_time`과 약간의 차이가 있을 수 있습니다. (네트워크 지연 등으로 인해)\n",
    "\n",
    "3. `is_deleted`:\n",
    "   - 레코드의 삭제 상태를 나타내는 플래그입니다.\n",
    "   - 불리언 값(true/false)으로 저장됩니다.\n",
    "   - Feature Store는 실제로 데이터를 삭제하지 않고, 이 플래그를 사용하여 삭제된 레코드를 표시합니다.\n",
    "   - 이를 통해 데이터의 이력을 유지하면서도 현재 유효한 데이터만 쉽게 조회할 수 있습니다.\n",
    "\n",
    "이 세 컬럼의 중요성:\n",
    "\n",
    "1. 데이터 일관성: `write_time`과 `api_invocation_time`을 비교하여 데이터 쓰기 지연을 모니터링할 수 있습니다.\n",
    "\n",
    "2. 감사 및 추적: 이 메타데이터를 통해 데이터의 변경 이력을 추적할 수 있습니다.\n",
    "\n",
    "3. 시간 기반 쿼리: 특정 시점의 데이터 상태를 조회하거나 시간에 따른 데이터 변화를 분석할 때 유용합니다.\n",
    "\n",
    "4. 논리적 삭제: `is_deleted` 플래그를 사용하여 실제로 데이터를 삭제하지 않고도 삭제된 것처럼 처리할 수 있습니다.\n",
    "\n",
    "이러한 메타데이터 컬럼은 Feature Store에서 자동으로 관리되므로, 사용자가 직접 값을 설정하거나 수정할 필요가 없습니다. 데이터 분석, 모델 학습, 그리고 Feature Store의 관리 및 모니터링에 이 정보를 활용할 수 있습니다."
   ]
  },
  {
   "cell_type": "code",
   "execution_count": 212,
   "metadata": {
    "tags": []
   },
   "outputs": [
    {
     "data": {
      "text/html": [
       "<div>\n",
       "<style scoped>\n",
       "    .dataframe tbody tr th:only-of-type {\n",
       "        vertical-align: middle;\n",
       "    }\n",
       "\n",
       "    .dataframe tbody tr th {\n",
       "        vertical-align: top;\n",
       "    }\n",
       "\n",
       "    .dataframe thead th {\n",
       "        text-align: right;\n",
       "    }\n",
       "</style>\n",
       "<table border=\"1\" class=\"dataframe\">\n",
       "  <thead>\n",
       "    <tr style=\"text-align: right;\">\n",
       "      <th></th>\n",
       "      <th>write_time</th>\n",
       "      <th>api_invocation_time</th>\n",
       "      <th>is_deleted</th>\n",
       "      <th>customer_id</th>\n",
       "      <th>sex</th>\n",
       "      <th>is_married</th>\n",
       "      <th>event_time</th>\n",
       "      <th>age_18-29</th>\n",
       "      <th>age_30-39</th>\n",
       "      <th>age_40-49</th>\n",
       "      <th>age_50-59</th>\n",
       "      <th>age_60-69</th>\n",
       "      <th>age_70-plus</th>\n",
       "      <th>n_days_active</th>\n",
       "    </tr>\n",
       "  </thead>\n",
       "  <tbody>\n",
       "    <tr>\n",
       "      <th>51</th>\n",
       "      <td>2024-07-14 05:10:54.535000 UTC</td>\n",
       "      <td>2024-07-14 05:05:55.000000 UTC</td>\n",
       "      <td>False</td>\n",
       "      <td>C19841011</td>\n",
       "      <td>0</td>\n",
       "      <td>0</td>\n",
       "      <td>2024-07-04T22:32:36.987Z</td>\n",
       "      <td>0</td>\n",
       "      <td>1</td>\n",
       "      <td>0</td>\n",
       "      <td>0</td>\n",
       "      <td>0</td>\n",
       "      <td>0</td>\n",
       "      <td>0.19841</td>\n",
       "    </tr>\n",
       "    <tr>\n",
       "      <th>3055</th>\n",
       "      <td>2024-07-14 05:59:54.779000 UTC</td>\n",
       "      <td>2024-07-14 05:55:02.000000 UTC</td>\n",
       "      <td>False</td>\n",
       "      <td>C19841011</td>\n",
       "      <td>0</td>\n",
       "      <td>0</td>\n",
       "      <td>2024-07-04T22:32:36.987Z</td>\n",
       "      <td>0</td>\n",
       "      <td>1</td>\n",
       "      <td>0</td>\n",
       "      <td>0</td>\n",
       "      <td>0</td>\n",
       "      <td>0</td>\n",
       "      <td>0.19841</td>\n",
       "    </tr>\n",
       "    <tr>\n",
       "      <th>4908</th>\n",
       "      <td>2024-07-14 05:59:54.779000 UTC</td>\n",
       "      <td>2024-07-14 05:55:47.000000 UTC</td>\n",
       "      <td>False</td>\n",
       "      <td>C19841011</td>\n",
       "      <td>0</td>\n",
       "      <td>0</td>\n",
       "      <td>2024-07-05T22:32:36.987Z</td>\n",
       "      <td>0</td>\n",
       "      <td>1</td>\n",
       "      <td>0</td>\n",
       "      <td>0</td>\n",
       "      <td>0</td>\n",
       "      <td>0</td>\n",
       "      <td>0.19841</td>\n",
       "    </tr>\n",
       "  </tbody>\n",
       "</table>\n",
       "</div>"
      ],
      "text/plain": [
       "                          write_time             api_invocation_time  \\\n",
       "51    2024-07-14 05:10:54.535000 UTC  2024-07-14 05:05:55.000000 UTC   \n",
       "3055  2024-07-14 05:59:54.779000 UTC  2024-07-14 05:55:02.000000 UTC   \n",
       "4908  2024-07-14 05:59:54.779000 UTC  2024-07-14 05:55:47.000000 UTC   \n",
       "\n",
       "      is_deleted customer_id  sex  is_married                event_time  \\\n",
       "51         False   C19841011    0           0  2024-07-04T22:32:36.987Z   \n",
       "3055       False   C19841011    0           0  2024-07-04T22:32:36.987Z   \n",
       "4908       False   C19841011    0           0  2024-07-05T22:32:36.987Z   \n",
       "\n",
       "      age_18-29  age_30-39  age_40-49  age_50-59  age_60-69  age_70-plus  \\\n",
       "51            0          1          0          0          0            0   \n",
       "3055          0          1          0          0          0            0   \n",
       "4908          0          1          0          0          0            0   \n",
       "\n",
       "      n_days_active  \n",
       "51          0.19841  \n",
       "3055        0.19841  \n",
       "4908        0.19841  "
      ]
     },
     "execution_count": 212,
     "metadata": {},
     "output_type": "execute_result"
    }
   ],
   "source": [
    "orders_query.run(query_string=query_string, output_location=output_location)\n",
    "orders_query.wait()\n",
    "joined_df = orders_query.as_dataframe()\n",
    "joined_df.query('customer_id == \"C19841011\"')"
   ]
  },
  {
   "cell_type": "markdown",
   "metadata": {
    "tags": []
   },
   "source": [
    "Amazon SageMaker Feature Store의 오프라인 스토어에서 `api_invocation_time`과 `write_time` 사이에 5분 정도의 차이가 나는 것은 비정상적이지 않습니다. 이는 오프라인 스토어의 특성과 설계 때문입니다. 이에 대해 자세히 설명해 드리겠습니다:\n",
    "\n",
    "1. 오프라인 스토어의 특성:\n",
    "   - 오프라인 스토어는 일반적으로 S3에 데이터를 저장합니다.\n",
    "   - 데이터는 배치 처리 방식으로 S3에 기록됩니다.\n",
    "\n",
    "2. 데이터 일관성 모델:\n",
    "   - 오프라인 스토어는 최종 일관성(eventual consistency) 모델을 따릅니다.\n",
    "   - 이는 데이터가 즉시 반영되지 않고, 일정 시간이 지난 후에 반영됨을 의미합니다.\n",
    "\n",
    "3. 배치 처리 주기:\n",
    "   - Amazon은 오프라인 스토어의 데이터를 주기적으로 업데이트합니다.\n",
    "   - 이 주기는 일반적으로 몇 분에서 15분 정도입니다.\n",
    "\n",
    "4. 5분의 지연이 정상인 이유:\n",
    "   - 이는 배치 처리 주기 내에 있는 시간입니다.\n",
    "   - 오프라인 스토어는 실시간 처리가 목적이 아니라, 대규모 분석이나 모델 학습을 위한 것이므로 이 정도의 지연은 허용됩니다.\n",
    "\n",
    "5. 온라인 스토어와의 차이:\n",
    "   - 온라인 스토어는 거의 실시간으로 데이터를 업데이트합니다.\n",
    "   - 오프라인 스토어는 비용 효율성과 대규모 데이터 처리를 위해 약간의 지연을 허용합니다.\n",
    "\n",
    "6. 사용 시 고려사항:\n",
    "   - 실시간성이 중요한 경우 온라인 스토어를 사용해야 합니다.\n",
    "   - 대규모 배치 처리나 분석에는 오프라인 스토어가 적합합니다.\n",
    "\n",
    "7. 모니터링 및 최적화:\n",
    "   - 5분 이상의 지연이 지속적으로 발생한다면 AWS 지원팀에 문의하는 것이 좋습니다.\n",
    "   - 대부분의 경우, 이 정도의 지연은 정상적인 작동 범위 내에 있습니다.\n",
    "\n",
    "결론적으로, 오프라인 스토어에서 5분 정도의 시간 차이는 정상적인 범위 내에 있습니다. 이는 오프라인 스토어의 설계 목적과 일관성 모델에 부합하는 동작입니다. 실시간 데이터 접근이 필요한 경우에는 온라인 스토어를 사용하고, 대규모 데이터 분석이나 모델 학습에는 오프라인 스토어를 활용하는 것이 좋습니다."
   ]
  },
  {
   "cell_type": "code",
   "execution_count": 64,
   "metadata": {
    "tags": []
   },
   "outputs": [
    {
     "data": {
      "text/plain": [
       "Index(['write_time', 'api_invocation_time', 'is_deleted', 'customer_id', 'sex',\n",
       "       'is_married', 'event_time', 'age_18-29', 'age_30-39', 'age_40-49',\n",
       "       'age_50-59', 'age_60-69', 'age_70-plus', 'n_days_active',\n",
       "       'write_time.1', 'api_invocation_time.1', 'is_deleted.1', 'product_id',\n",
       "       'event_time.1', 'category_baby_food_formula',\n",
       "       'category_baking_ingredients', 'category_candy_chocolate',\n",
       "       'category_chips_pretzels', 'category_cleaning_products',\n",
       "       'category_coffee', 'category_cookies_cakes', 'category_crackers',\n",
       "       'category_energy_granola_bars', 'category_frozen_meals',\n",
       "       'category_hair_care', 'category_ice_cream_ice',\n",
       "       'category_juice_nectars', 'category_packaged_cheese',\n",
       "       'category_refrigerated', 'category_soup_broth_bouillon',\n",
       "       'category_spices_seasonings', 'category_tea',\n",
       "       'category_vitamins_supplements', 'category_yogurt', 'write_time.2',\n",
       "       'api_invocation_time.2', 'is_deleted.2', 'order_id', 'customer_id.1',\n",
       "       'product_id.1', 'purchase_amount', 'is_reordered', 'event_time.2',\n",
       "       'n_days_since_last_purchase'],\n",
       "      dtype='object')"
      ]
     },
     "execution_count": 64,
     "metadata": {},
     "output_type": "execute_result"
    }
   ],
   "source": [
    "joined_df.columns"
   ]
  },
  {
   "cell_type": "markdown",
   "metadata": {},
   "source": [
    "# Moving fron Offline to Online"
   ]
  },
  {
   "cell_type": "code",
   "execution_count": 213,
   "metadata": {},
   "outputs": [],
   "source": [
    "query_string = f'SELECT * FROM \"{customers_table}\"'"
   ]
  },
  {
   "cell_type": "markdown",
   "metadata": {},
   "source": [
    "가장 최신의 데이터만 남기는 쿼리"
   ]
  },
  {
   "cell_type": "code",
   "execution_count": 214,
   "metadata": {},
   "outputs": [],
   "source": [
    "query_string = \"\"\"\n",
    "                WITH ranked_data AS (\n",
    "                  SELECT *,\n",
    "                         ROW_NUMBER() OVER (PARTITION BY customer_id ORDER BY event_time DESC) AS row_num\n",
    "                  FROM fsw_customers_07_14_13_54_1720932989\n",
    "                )\n",
    "                SELECT *\n",
    "                FROM ranked_data\n",
    "                WHERE row_num = 1\n",
    "               \"\"\""
   ]
  },
  {
   "cell_type": "code",
   "execution_count": 215,
   "metadata": {},
   "outputs": [],
   "source": [
    "customers_query.run(query_string=query_string, output_location=output_location)\n",
    "customers_query.wait()"
   ]
  },
  {
   "cell_type": "code",
   "execution_count": 216,
   "metadata": {},
   "outputs": [
    {
     "data": {
      "text/html": [
       "<div>\n",
       "<style scoped>\n",
       "    .dataframe tbody tr th:only-of-type {\n",
       "        vertical-align: middle;\n",
       "    }\n",
       "\n",
       "    .dataframe tbody tr th {\n",
       "        vertical-align: top;\n",
       "    }\n",
       "\n",
       "    .dataframe thead th {\n",
       "        text-align: right;\n",
       "    }\n",
       "</style>\n",
       "<table border=\"1\" class=\"dataframe\">\n",
       "  <thead>\n",
       "    <tr style=\"text-align: right;\">\n",
       "      <th></th>\n",
       "      <th>write_time</th>\n",
       "      <th>api_invocation_time</th>\n",
       "      <th>is_deleted</th>\n",
       "      <th>customer_id</th>\n",
       "      <th>sex</th>\n",
       "      <th>is_married</th>\n",
       "      <th>event_time</th>\n",
       "      <th>age_18-29</th>\n",
       "      <th>age_30-39</th>\n",
       "      <th>age_40-49</th>\n",
       "      <th>age_50-59</th>\n",
       "      <th>age_60-69</th>\n",
       "      <th>age_70-plus</th>\n",
       "      <th>n_days_active</th>\n",
       "      <th>row_num</th>\n",
       "    </tr>\n",
       "  </thead>\n",
       "  <tbody>\n",
       "    <tr>\n",
       "      <th>3061</th>\n",
       "      <td>2024-07-14 05:59:54.779000 UTC</td>\n",
       "      <td>2024-07-14 05:55:47.000000 UTC</td>\n",
       "      <td>False</td>\n",
       "      <td>C19841011</td>\n",
       "      <td>0</td>\n",
       "      <td>0</td>\n",
       "      <td>2024-07-05T22:32:36.987Z</td>\n",
       "      <td>0</td>\n",
       "      <td>1</td>\n",
       "      <td>0</td>\n",
       "      <td>0</td>\n",
       "      <td>0</td>\n",
       "      <td>0</td>\n",
       "      <td>0.19841</td>\n",
       "      <td>1</td>\n",
       "    </tr>\n",
       "  </tbody>\n",
       "</table>\n",
       "</div>"
      ],
      "text/plain": [
       "                          write_time             api_invocation_time  \\\n",
       "3061  2024-07-14 05:59:54.779000 UTC  2024-07-14 05:55:47.000000 UTC   \n",
       "\n",
       "      is_deleted customer_id  sex  is_married                event_time  \\\n",
       "3061       False   C19841011    0           0  2024-07-05T22:32:36.987Z   \n",
       "\n",
       "      age_18-29  age_30-39  age_40-49  age_50-59  age_60-69  age_70-plus  \\\n",
       "3061          0          1          0          0          0            0   \n",
       "\n",
       "      n_days_active  row_num  \n",
       "3061        0.19841        1  "
      ]
     },
     "execution_count": 216,
     "metadata": {},
     "output_type": "execute_result"
    }
   ],
   "source": [
    "customers_query.as_dataframe().query('customer_id == \"C19841011\"')"
   ]
  },
  {
   "cell_type": "code",
   "execution_count": 220,
   "metadata": {},
   "outputs": [
    {
     "name": "stdout",
     "output_type": "stream",
     "text": [
      "Shape: (1000, 11)\n"
     ]
    },
    {
     "name": "stderr",
     "output_type": "stream",
     "text": [
      "10000 customer records ingested into feature group: fsw-customers-07-14-13-54\n",
      "10000 customer records ingested into feature group: fsw-customers-07-14-13-54\n"
     ]
    },
    {
     "name": "stdout",
     "output_type": "stream",
     "text": [
      "Shape: (1000, 11)\n"
     ]
    },
    {
     "name": "stderr",
     "output_type": "stream",
     "text": [
      "10000 customer records ingested into feature group: fsw-customers-07-14-13-54\n",
      "10000 customer records ingested into feature group: fsw-customers-07-14-13-54\n"
     ]
    },
    {
     "name": "stdout",
     "output_type": "stream",
     "text": [
      "Shape: (1000, 11)\n"
     ]
    },
    {
     "name": "stderr",
     "output_type": "stream",
     "text": [
      "10000 customer records ingested into feature group: fsw-customers-07-14-13-54\n",
      "10000 customer records ingested into feature group: fsw-customers-07-14-13-54\n"
     ]
    },
    {
     "name": "stdout",
     "output_type": "stream",
     "text": [
      "Shape: (1000, 11)\n"
     ]
    },
    {
     "name": "stderr",
     "output_type": "stream",
     "text": [
      "10000 customer records ingested into feature group: fsw-customers-07-14-13-54\n",
      "10000 customer records ingested into feature group: fsw-customers-07-14-13-54\n"
     ]
    },
    {
     "name": "stdout",
     "output_type": "stream",
     "text": [
      "Shape: (1000, 11)\n"
     ]
    },
    {
     "name": "stderr",
     "output_type": "stream",
     "text": [
      "10000 customer records ingested into feature group: fsw-customers-07-14-13-54\n",
      "10000 customer records ingested into feature group: fsw-customers-07-14-13-54\n"
     ]
    },
    {
     "name": "stdout",
     "output_type": "stream",
     "text": [
      "Shape: (1000, 11)\n"
     ]
    },
    {
     "name": "stderr",
     "output_type": "stream",
     "text": [
      "10000 customer records ingested into feature group: fsw-customers-07-14-13-54\n",
      "10000 customer records ingested into feature group: fsw-customers-07-14-13-54\n"
     ]
    },
    {
     "name": "stdout",
     "output_type": "stream",
     "text": [
      "Shape: (1000, 11)\n"
     ]
    },
    {
     "name": "stderr",
     "output_type": "stream",
     "text": [
      "10000 customer records ingested into feature group: fsw-customers-07-14-13-54\n",
      "10000 customer records ingested into feature group: fsw-customers-07-14-13-54\n"
     ]
    },
    {
     "name": "stdout",
     "output_type": "stream",
     "text": [
      "Shape: (1000, 11)\n"
     ]
    },
    {
     "name": "stderr",
     "output_type": "stream",
     "text": [
      "10000 customer records ingested into feature group: fsw-customers-07-14-13-54\n",
      "10000 customer records ingested into feature group: fsw-customers-07-14-13-54\n"
     ]
    },
    {
     "name": "stdout",
     "output_type": "stream",
     "text": [
      "Shape: (1000, 11)\n"
     ]
    },
    {
     "name": "stderr",
     "output_type": "stream",
     "text": [
      "10000 customer records ingested into feature group: fsw-customers-07-14-13-54\n",
      "10000 customer records ingested into feature group: fsw-customers-07-14-13-54\n"
     ]
    },
    {
     "name": "stdout",
     "output_type": "stream",
     "text": [
      "Shape: (1000, 11)\n"
     ]
    },
    {
     "name": "stderr",
     "output_type": "stream",
     "text": [
      "10000 customer records ingested into feature group: fsw-customers-07-14-13-54\n",
      "10000 customer records ingested into feature group: fsw-customers-07-14-13-54\n"
     ]
    },
    {
     "name": "stdout",
     "output_type": "stream",
     "text": [
      "Shape: (2, 11)\n"
     ]
    },
    {
     "name": "stderr",
     "output_type": "stream",
     "text": [
      "10000 customer records ingested into feature group: fsw-customers-07-14-13-54\n",
      "10000 customer records ingested into feature group: fsw-customers-07-14-13-54\n"
     ]
    }
   ],
   "source": [
    "dfs = customers_query.as_dataframe(chunksize=1000)\n",
    "for df in dfs:\n",
    "    cols = [col for col in df.columns if col not in ['write_time', 'api_invocation_time', 'is_deleted', 'row_num']]\n",
    "    df = df[cols]\n",
    "    print (f'Shape: {df.shape}')\n",
    "    customers_feature_group.ingest(\n",
    "        data_frame=df,\n",
    "        max_processes=16, # the number of processes will be created to work on different partitions of the data_frame in parallel\n",
    "        wait=False\n",
    "    )\n",
    "    logger.info(f'{len(customers_df)} customer records ingested into feature group: {customers_feature_group.name}')"
   ]
  },
  {
   "cell_type": "code",
   "execution_count": null,
   "metadata": {},
   "outputs": [],
   "source": []
  },
  {
   "cell_type": "markdown",
   "metadata": {},
   "source": [
    "# Clean up"
   ]
  },
  {
   "cell_type": "code",
   "execution_count": 235,
   "metadata": {},
   "outputs": [],
   "source": [
    "# Delete Feature Group, Online-Only storage\n",
    "feature_groups = [customers_feature_group_name, products_feature_group_name, orders_feature_group_name]\n",
    "for feature_group_name in feature_groups:\n",
    "    try:\n",
    "        response = sagemaker_client.delete_feature_group(FeatureGroupName=feature_group_name)\n",
    "    except:\n",
    "        pass"
   ]
  },
  {
   "cell_type": "markdown",
   "metadata": {},
   "source": [
    "# List feature groups \n",
    "Since we created all of our feature groups with a common name pattern, we'll just list all the ones that have our same month and day (e.g., 04-13)."
   ]
  },
  {
   "cell_type": "code",
   "execution_count": 50,
   "metadata": {
    "tags": []
   },
   "outputs": [
    {
     "name": "stderr",
     "output_type": "stream",
     "text": [
      "INFO:botocore.credentials:Found credentials from IAM Role: BaseNotebookInstanceEc2InstanceRole\n",
      "INFO:botocore.credentials:Found credentials from IAM Role: BaseNotebookInstanceEc2InstanceRole\n",
      "INFO:botocore.credentials:Found credentials from IAM Role: BaseNotebookInstanceEc2InstanceRole\n"
     ]
    }
   ],
   "source": [
    "import sys\n",
    "sys.path.append('..')\n",
    "from utilities.feature_store_helper import FeatureStore\n",
    "fs = FeatureStore()"
   ]
  },
  {
   "cell_type": "code",
   "execution_count": 51,
   "metadata": {
    "tags": []
   },
   "outputs": [
    {
     "data": {
      "text/plain": [
       "[{'FeatureGroupName': 'fscw-products-07-04-22-39',\n",
       "  'FeatureGroupArn': 'arn:aws:sagemaker:us-east-1:419974056037:feature-group/fscw-products-07-04-22-39',\n",
       "  'CreationTime': datetime.datetime(2024, 7, 4, 22, 44, 33, 388000, tzinfo=tzlocal()),\n",
       "  'FeatureGroupStatus': 'Created'},\n",
       " {'FeatureGroupName': 'fscw-orders-07-04-22-39',\n",
       "  'FeatureGroupArn': 'arn:aws:sagemaker:us-east-1:419974056037:feature-group/fscw-orders-07-04-22-39',\n",
       "  'CreationTime': datetime.datetime(2024, 7, 4, 22, 44, 55, 243000, tzinfo=tzlocal()),\n",
       "  'FeatureGroupStatus': 'Created'},\n",
       " {'FeatureGroupName': 'fscw-customers-07-04-22-39',\n",
       "  'FeatureGroupArn': 'arn:aws:sagemaker:us-east-1:419974056037:feature-group/fscw-customers-07-04-22-39',\n",
       "  'CreationTime': datetime.datetime(2024, 7, 4, 22, 44, 8, 560000, tzinfo=tzlocal()),\n",
       "  'FeatureGroupStatus': 'Created'}]"
      ]
     },
     "execution_count": 51,
     "metadata": {},
     "output_type": "execute_result"
    }
   ],
   "source": [
    "fs.list_feature_groups(current_timestamp[0:5])"
   ]
  },
  {
   "cell_type": "code",
   "execution_count": null,
   "metadata": {},
   "outputs": [],
   "source": []
  },
  {
   "cell_type": "code",
   "execution_count": null,
   "metadata": {},
   "outputs": [],
   "source": []
  },
  {
   "cell_type": "code",
   "execution_count": null,
   "metadata": {},
   "outputs": [],
   "source": []
  },
  {
   "cell_type": "code",
   "execution_count": null,
   "metadata": {},
   "outputs": [],
   "source": []
  }
 ],
 "metadata": {
  "availableInstances": [
   {
    "_defaultOrder": 0,
    "_isFastLaunch": true,
    "category": "General purpose",
    "gpuNum": 0,
    "hideHardwareSpecs": false,
    "memoryGiB": 4,
    "name": "ml.t3.medium",
    "vcpuNum": 2
   },
   {
    "_defaultOrder": 1,
    "_isFastLaunch": false,
    "category": "General purpose",
    "gpuNum": 0,
    "hideHardwareSpecs": false,
    "memoryGiB": 8,
    "name": "ml.t3.large",
    "vcpuNum": 2
   },
   {
    "_defaultOrder": 2,
    "_isFastLaunch": false,
    "category": "General purpose",
    "gpuNum": 0,
    "hideHardwareSpecs": false,
    "memoryGiB": 16,
    "name": "ml.t3.xlarge",
    "vcpuNum": 4
   },
   {
    "_defaultOrder": 3,
    "_isFastLaunch": false,
    "category": "General purpose",
    "gpuNum": 0,
    "hideHardwareSpecs": false,
    "memoryGiB": 32,
    "name": "ml.t3.2xlarge",
    "vcpuNum": 8
   },
   {
    "_defaultOrder": 4,
    "_isFastLaunch": true,
    "category": "General purpose",
    "gpuNum": 0,
    "hideHardwareSpecs": false,
    "memoryGiB": 8,
    "name": "ml.m5.large",
    "vcpuNum": 2
   },
   {
    "_defaultOrder": 5,
    "_isFastLaunch": false,
    "category": "General purpose",
    "gpuNum": 0,
    "hideHardwareSpecs": false,
    "memoryGiB": 16,
    "name": "ml.m5.xlarge",
    "vcpuNum": 4
   },
   {
    "_defaultOrder": 6,
    "_isFastLaunch": false,
    "category": "General purpose",
    "gpuNum": 0,
    "hideHardwareSpecs": false,
    "memoryGiB": 32,
    "name": "ml.m5.2xlarge",
    "vcpuNum": 8
   },
   {
    "_defaultOrder": 7,
    "_isFastLaunch": false,
    "category": "General purpose",
    "gpuNum": 0,
    "hideHardwareSpecs": false,
    "memoryGiB": 64,
    "name": "ml.m5.4xlarge",
    "vcpuNum": 16
   },
   {
    "_defaultOrder": 8,
    "_isFastLaunch": false,
    "category": "General purpose",
    "gpuNum": 0,
    "hideHardwareSpecs": false,
    "memoryGiB": 128,
    "name": "ml.m5.8xlarge",
    "vcpuNum": 32
   },
   {
    "_defaultOrder": 9,
    "_isFastLaunch": false,
    "category": "General purpose",
    "gpuNum": 0,
    "hideHardwareSpecs": false,
    "memoryGiB": 192,
    "name": "ml.m5.12xlarge",
    "vcpuNum": 48
   },
   {
    "_defaultOrder": 10,
    "_isFastLaunch": false,
    "category": "General purpose",
    "gpuNum": 0,
    "hideHardwareSpecs": false,
    "memoryGiB": 256,
    "name": "ml.m5.16xlarge",
    "vcpuNum": 64
   },
   {
    "_defaultOrder": 11,
    "_isFastLaunch": false,
    "category": "General purpose",
    "gpuNum": 0,
    "hideHardwareSpecs": false,
    "memoryGiB": 384,
    "name": "ml.m5.24xlarge",
    "vcpuNum": 96
   },
   {
    "_defaultOrder": 12,
    "_isFastLaunch": false,
    "category": "General purpose",
    "gpuNum": 0,
    "hideHardwareSpecs": false,
    "memoryGiB": 8,
    "name": "ml.m5d.large",
    "vcpuNum": 2
   },
   {
    "_defaultOrder": 13,
    "_isFastLaunch": false,
    "category": "General purpose",
    "gpuNum": 0,
    "hideHardwareSpecs": false,
    "memoryGiB": 16,
    "name": "ml.m5d.xlarge",
    "vcpuNum": 4
   },
   {
    "_defaultOrder": 14,
    "_isFastLaunch": false,
    "category": "General purpose",
    "gpuNum": 0,
    "hideHardwareSpecs": false,
    "memoryGiB": 32,
    "name": "ml.m5d.2xlarge",
    "vcpuNum": 8
   },
   {
    "_defaultOrder": 15,
    "_isFastLaunch": false,
    "category": "General purpose",
    "gpuNum": 0,
    "hideHardwareSpecs": false,
    "memoryGiB": 64,
    "name": "ml.m5d.4xlarge",
    "vcpuNum": 16
   },
   {
    "_defaultOrder": 16,
    "_isFastLaunch": false,
    "category": "General purpose",
    "gpuNum": 0,
    "hideHardwareSpecs": false,
    "memoryGiB": 128,
    "name": "ml.m5d.8xlarge",
    "vcpuNum": 32
   },
   {
    "_defaultOrder": 17,
    "_isFastLaunch": false,
    "category": "General purpose",
    "gpuNum": 0,
    "hideHardwareSpecs": false,
    "memoryGiB": 192,
    "name": "ml.m5d.12xlarge",
    "vcpuNum": 48
   },
   {
    "_defaultOrder": 18,
    "_isFastLaunch": false,
    "category": "General purpose",
    "gpuNum": 0,
    "hideHardwareSpecs": false,
    "memoryGiB": 256,
    "name": "ml.m5d.16xlarge",
    "vcpuNum": 64
   },
   {
    "_defaultOrder": 19,
    "_isFastLaunch": false,
    "category": "General purpose",
    "gpuNum": 0,
    "hideHardwareSpecs": false,
    "memoryGiB": 384,
    "name": "ml.m5d.24xlarge",
    "vcpuNum": 96
   },
   {
    "_defaultOrder": 20,
    "_isFastLaunch": false,
    "category": "General purpose",
    "gpuNum": 0,
    "hideHardwareSpecs": true,
    "memoryGiB": 0,
    "name": "ml.geospatial.interactive",
    "supportedImageNames": [
     "sagemaker-geospatial-v1-0"
    ],
    "vcpuNum": 0
   },
   {
    "_defaultOrder": 21,
    "_isFastLaunch": true,
    "category": "Compute optimized",
    "gpuNum": 0,
    "hideHardwareSpecs": false,
    "memoryGiB": 4,
    "name": "ml.c5.large",
    "vcpuNum": 2
   },
   {
    "_defaultOrder": 22,
    "_isFastLaunch": false,
    "category": "Compute optimized",
    "gpuNum": 0,
    "hideHardwareSpecs": false,
    "memoryGiB": 8,
    "name": "ml.c5.xlarge",
    "vcpuNum": 4
   },
   {
    "_defaultOrder": 23,
    "_isFastLaunch": false,
    "category": "Compute optimized",
    "gpuNum": 0,
    "hideHardwareSpecs": false,
    "memoryGiB": 16,
    "name": "ml.c5.2xlarge",
    "vcpuNum": 8
   },
   {
    "_defaultOrder": 24,
    "_isFastLaunch": false,
    "category": "Compute optimized",
    "gpuNum": 0,
    "hideHardwareSpecs": false,
    "memoryGiB": 32,
    "name": "ml.c5.4xlarge",
    "vcpuNum": 16
   },
   {
    "_defaultOrder": 25,
    "_isFastLaunch": false,
    "category": "Compute optimized",
    "gpuNum": 0,
    "hideHardwareSpecs": false,
    "memoryGiB": 72,
    "name": "ml.c5.9xlarge",
    "vcpuNum": 36
   },
   {
    "_defaultOrder": 26,
    "_isFastLaunch": false,
    "category": "Compute optimized",
    "gpuNum": 0,
    "hideHardwareSpecs": false,
    "memoryGiB": 96,
    "name": "ml.c5.12xlarge",
    "vcpuNum": 48
   },
   {
    "_defaultOrder": 27,
    "_isFastLaunch": false,
    "category": "Compute optimized",
    "gpuNum": 0,
    "hideHardwareSpecs": false,
    "memoryGiB": 144,
    "name": "ml.c5.18xlarge",
    "vcpuNum": 72
   },
   {
    "_defaultOrder": 28,
    "_isFastLaunch": false,
    "category": "Compute optimized",
    "gpuNum": 0,
    "hideHardwareSpecs": false,
    "memoryGiB": 192,
    "name": "ml.c5.24xlarge",
    "vcpuNum": 96
   },
   {
    "_defaultOrder": 29,
    "_isFastLaunch": true,
    "category": "Accelerated computing",
    "gpuNum": 1,
    "hideHardwareSpecs": false,
    "memoryGiB": 16,
    "name": "ml.g4dn.xlarge",
    "vcpuNum": 4
   },
   {
    "_defaultOrder": 30,
    "_isFastLaunch": false,
    "category": "Accelerated computing",
    "gpuNum": 1,
    "hideHardwareSpecs": false,
    "memoryGiB": 32,
    "name": "ml.g4dn.2xlarge",
    "vcpuNum": 8
   },
   {
    "_defaultOrder": 31,
    "_isFastLaunch": false,
    "category": "Accelerated computing",
    "gpuNum": 1,
    "hideHardwareSpecs": false,
    "memoryGiB": 64,
    "name": "ml.g4dn.4xlarge",
    "vcpuNum": 16
   },
   {
    "_defaultOrder": 32,
    "_isFastLaunch": false,
    "category": "Accelerated computing",
    "gpuNum": 1,
    "hideHardwareSpecs": false,
    "memoryGiB": 128,
    "name": "ml.g4dn.8xlarge",
    "vcpuNum": 32
   },
   {
    "_defaultOrder": 33,
    "_isFastLaunch": false,
    "category": "Accelerated computing",
    "gpuNum": 4,
    "hideHardwareSpecs": false,
    "memoryGiB": 192,
    "name": "ml.g4dn.12xlarge",
    "vcpuNum": 48
   },
   {
    "_defaultOrder": 34,
    "_isFastLaunch": false,
    "category": "Accelerated computing",
    "gpuNum": 1,
    "hideHardwareSpecs": false,
    "memoryGiB": 256,
    "name": "ml.g4dn.16xlarge",
    "vcpuNum": 64
   },
   {
    "_defaultOrder": 35,
    "_isFastLaunch": false,
    "category": "Accelerated computing",
    "gpuNum": 1,
    "hideHardwareSpecs": false,
    "memoryGiB": 61,
    "name": "ml.p3.2xlarge",
    "vcpuNum": 8
   },
   {
    "_defaultOrder": 36,
    "_isFastLaunch": false,
    "category": "Accelerated computing",
    "gpuNum": 4,
    "hideHardwareSpecs": false,
    "memoryGiB": 244,
    "name": "ml.p3.8xlarge",
    "vcpuNum": 32
   },
   {
    "_defaultOrder": 37,
    "_isFastLaunch": false,
    "category": "Accelerated computing",
    "gpuNum": 8,
    "hideHardwareSpecs": false,
    "memoryGiB": 488,
    "name": "ml.p3.16xlarge",
    "vcpuNum": 64
   },
   {
    "_defaultOrder": 38,
    "_isFastLaunch": false,
    "category": "Accelerated computing",
    "gpuNum": 8,
    "hideHardwareSpecs": false,
    "memoryGiB": 768,
    "name": "ml.p3dn.24xlarge",
    "vcpuNum": 96
   },
   {
    "_defaultOrder": 39,
    "_isFastLaunch": false,
    "category": "Memory Optimized",
    "gpuNum": 0,
    "hideHardwareSpecs": false,
    "memoryGiB": 16,
    "name": "ml.r5.large",
    "vcpuNum": 2
   },
   {
    "_defaultOrder": 40,
    "_isFastLaunch": false,
    "category": "Memory Optimized",
    "gpuNum": 0,
    "hideHardwareSpecs": false,
    "memoryGiB": 32,
    "name": "ml.r5.xlarge",
    "vcpuNum": 4
   },
   {
    "_defaultOrder": 41,
    "_isFastLaunch": false,
    "category": "Memory Optimized",
    "gpuNum": 0,
    "hideHardwareSpecs": false,
    "memoryGiB": 64,
    "name": "ml.r5.2xlarge",
    "vcpuNum": 8
   },
   {
    "_defaultOrder": 42,
    "_isFastLaunch": false,
    "category": "Memory Optimized",
    "gpuNum": 0,
    "hideHardwareSpecs": false,
    "memoryGiB": 128,
    "name": "ml.r5.4xlarge",
    "vcpuNum": 16
   },
   {
    "_defaultOrder": 43,
    "_isFastLaunch": false,
    "category": "Memory Optimized",
    "gpuNum": 0,
    "hideHardwareSpecs": false,
    "memoryGiB": 256,
    "name": "ml.r5.8xlarge",
    "vcpuNum": 32
   },
   {
    "_defaultOrder": 44,
    "_isFastLaunch": false,
    "category": "Memory Optimized",
    "gpuNum": 0,
    "hideHardwareSpecs": false,
    "memoryGiB": 384,
    "name": "ml.r5.12xlarge",
    "vcpuNum": 48
   },
   {
    "_defaultOrder": 45,
    "_isFastLaunch": false,
    "category": "Memory Optimized",
    "gpuNum": 0,
    "hideHardwareSpecs": false,
    "memoryGiB": 512,
    "name": "ml.r5.16xlarge",
    "vcpuNum": 64
   },
   {
    "_defaultOrder": 46,
    "_isFastLaunch": false,
    "category": "Memory Optimized",
    "gpuNum": 0,
    "hideHardwareSpecs": false,
    "memoryGiB": 768,
    "name": "ml.r5.24xlarge",
    "vcpuNum": 96
   },
   {
    "_defaultOrder": 47,
    "_isFastLaunch": false,
    "category": "Accelerated computing",
    "gpuNum": 1,
    "hideHardwareSpecs": false,
    "memoryGiB": 16,
    "name": "ml.g5.xlarge",
    "vcpuNum": 4
   },
   {
    "_defaultOrder": 48,
    "_isFastLaunch": false,
    "category": "Accelerated computing",
    "gpuNum": 1,
    "hideHardwareSpecs": false,
    "memoryGiB": 32,
    "name": "ml.g5.2xlarge",
    "vcpuNum": 8
   },
   {
    "_defaultOrder": 49,
    "_isFastLaunch": false,
    "category": "Accelerated computing",
    "gpuNum": 1,
    "hideHardwareSpecs": false,
    "memoryGiB": 64,
    "name": "ml.g5.4xlarge",
    "vcpuNum": 16
   },
   {
    "_defaultOrder": 50,
    "_isFastLaunch": false,
    "category": "Accelerated computing",
    "gpuNum": 1,
    "hideHardwareSpecs": false,
    "memoryGiB": 128,
    "name": "ml.g5.8xlarge",
    "vcpuNum": 32
   },
   {
    "_defaultOrder": 51,
    "_isFastLaunch": false,
    "category": "Accelerated computing",
    "gpuNum": 1,
    "hideHardwareSpecs": false,
    "memoryGiB": 256,
    "name": "ml.g5.16xlarge",
    "vcpuNum": 64
   },
   {
    "_defaultOrder": 52,
    "_isFastLaunch": false,
    "category": "Accelerated computing",
    "gpuNum": 4,
    "hideHardwareSpecs": false,
    "memoryGiB": 192,
    "name": "ml.g5.12xlarge",
    "vcpuNum": 48
   },
   {
    "_defaultOrder": 53,
    "_isFastLaunch": false,
    "category": "Accelerated computing",
    "gpuNum": 4,
    "hideHardwareSpecs": false,
    "memoryGiB": 384,
    "name": "ml.g5.24xlarge",
    "vcpuNum": 96
   },
   {
    "_defaultOrder": 54,
    "_isFastLaunch": false,
    "category": "Accelerated computing",
    "gpuNum": 8,
    "hideHardwareSpecs": false,
    "memoryGiB": 768,
    "name": "ml.g5.48xlarge",
    "vcpuNum": 192
   },
   {
    "_defaultOrder": 55,
    "_isFastLaunch": false,
    "category": "Accelerated computing",
    "gpuNum": 8,
    "hideHardwareSpecs": false,
    "memoryGiB": 1152,
    "name": "ml.p4d.24xlarge",
    "vcpuNum": 96
   },
   {
    "_defaultOrder": 56,
    "_isFastLaunch": false,
    "category": "Accelerated computing",
    "gpuNum": 8,
    "hideHardwareSpecs": false,
    "memoryGiB": 1152,
    "name": "ml.p4de.24xlarge",
    "vcpuNum": 96
   },
   {
    "_defaultOrder": 57,
    "_isFastLaunch": false,
    "category": "Accelerated computing",
    "gpuNum": 0,
    "hideHardwareSpecs": false,
    "memoryGiB": 32,
    "name": "ml.trn1.2xlarge",
    "vcpuNum": 8
   },
   {
    "_defaultOrder": 58,
    "_isFastLaunch": false,
    "category": "Accelerated computing",
    "gpuNum": 0,
    "hideHardwareSpecs": false,
    "memoryGiB": 512,
    "name": "ml.trn1.32xlarge",
    "vcpuNum": 128
   },
   {
    "_defaultOrder": 59,
    "_isFastLaunch": false,
    "category": "Accelerated computing",
    "gpuNum": 0,
    "hideHardwareSpecs": false,
    "memoryGiB": 512,
    "name": "ml.trn1n.32xlarge",
    "vcpuNum": 128
   }
  ],
  "instance_type": "ml.t3.medium",
  "kernelspec": {
   "display_name": "Python 3 (ipykernel)",
   "language": "python",
   "name": "python3"
  },
  "language_info": {
   "codemirror_mode": {
    "name": "ipython",
    "version": 3
   },
   "file_extension": ".py",
   "mimetype": "text/x-python",
   "name": "python",
   "nbconvert_exporter": "python",
   "pygments_lexer": "ipython3",
   "version": "3.10.14"
  }
 },
 "nbformat": 4,
 "nbformat_minor": 4
}
