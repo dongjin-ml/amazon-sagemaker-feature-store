{
 "cells": [
  {
   "cell_type": "markdown",
   "metadata": {},
   "source": [
    "# Partition data \n",
    "**This notebook partitions `orders` data into batches which will be used by the other notebooks in this module for batch ingestion to the feature store.**\n",
    "\n",
    "**Note:** Please set kernel to `Python 3 (Data Science)` and select instance to `ml.t3.medium`"
   ]
  },
  {
   "cell_type": "markdown",
   "metadata": {},
   "source": [
    "---\n",
    "\n",
    "## Contents\n",
    "\n",
    "1. [Setup](#Setup)\n",
    "1. [Load data](#Load-data)\n",
    "1. [Groupby and partition](#Groupby-and-partition)\n",
    "1. [Copy partitions from local to S3](#Copy-partitions-from-local-to-S3)"
   ]
  },
  {
   "cell_type": "markdown",
   "metadata": {},
   "source": [
    "# Setup"
   ]
  },
  {
   "cell_type": "markdown",
   "metadata": {},
   "source": [
    "#### Imports "
   ]
  },
  {
   "cell_type": "code",
   "execution_count": 1,
   "metadata": {},
   "outputs": [
    {
     "name": "stdout",
     "output_type": "stream",
     "text": [
      "sagemaker.config INFO - Not applying SDK defaults from location: /etc/xdg/sagemaker/config.yaml\n",
      "sagemaker.config INFO - Not applying SDK defaults from location: /home/sagemaker-user/.config/sagemaker/config.yaml\n"
     ]
    }
   ],
   "source": [
    "import pandas as pd\n",
    "import sagemaker\n",
    "import shutil\n",
    "import os"
   ]
  },
  {
   "cell_type": "markdown",
   "metadata": {},
   "source": [
    "#### Essentials"
   ]
  },
  {
   "cell_type": "code",
   "execution_count": 2,
   "metadata": {},
   "outputs": [],
   "source": [
    "sagemaker_session = sagemaker.Session()\n",
    "default_bucket = sagemaker_session.default_bucket()\n",
    "prefix = 'sagemaker-feature-store'"
   ]
  },
  {
   "cell_type": "markdown",
   "metadata": {},
   "source": [
    "# Load data"
   ]
  },
  {
   "cell_type": "markdown",
   "metadata": {},
   "source": [
    "#### Read `orders` data"
   ]
  },
  {
   "cell_type": "code",
   "execution_count": 5,
   "metadata": {},
   "outputs": [],
   "source": [
    "df = pd.read_csv('./data/raw/orders.csv')"
   ]
  },
  {
   "cell_type": "code",
   "execution_count": 6,
   "metadata": {},
   "outputs": [],
   "source": [
    "df['year_month'] = df['purchased_on'].apply(\n",
    "    lambda x: '-'.join([str(pd.to_datetime(x).year), \n",
    "                        str(pd.to_datetime(x).month)])\n",
    ")"
   ]
  },
  {
   "cell_type": "code",
   "execution_count": 7,
   "metadata": {},
   "outputs": [
    {
     "data": {
      "text/html": [
       "<div>\n",
       "<style scoped>\n",
       "    .dataframe tbody tr th:only-of-type {\n",
       "        vertical-align: middle;\n",
       "    }\n",
       "\n",
       "    .dataframe tbody tr th {\n",
       "        vertical-align: top;\n",
       "    }\n",
       "\n",
       "    .dataframe thead th {\n",
       "        text-align: right;\n",
       "    }\n",
       "</style>\n",
       "<table border=\"1\" class=\"dataframe\">\n",
       "  <thead>\n",
       "    <tr style=\"text-align: right;\">\n",
       "      <th></th>\n",
       "      <th>order_id</th>\n",
       "      <th>customer_id</th>\n",
       "      <th>product_id</th>\n",
       "      <th>purchase_amount</th>\n",
       "      <th>is_reordered</th>\n",
       "      <th>purchased_on</th>\n",
       "      <th>event_time</th>\n",
       "      <th>year_month</th>\n",
       "    </tr>\n",
       "  </thead>\n",
       "  <tbody>\n",
       "    <tr>\n",
       "      <th>0</th>\n",
       "      <td>O1</td>\n",
       "      <td>C5731</td>\n",
       "      <td>P16</td>\n",
       "      <td>93.26</td>\n",
       "      <td>1</td>\n",
       "      <td>2021-02-16 16:07:28</td>\n",
       "      <td>2024-07-14T04:30:55.982Z</td>\n",
       "      <td>2021-2</td>\n",
       "    </tr>\n",
       "    <tr>\n",
       "      <th>1</th>\n",
       "      <td>O2</td>\n",
       "      <td>C3541</td>\n",
       "      <td>P12802</td>\n",
       "      <td>67.98</td>\n",
       "      <td>1</td>\n",
       "      <td>2020-08-07 06:57:31</td>\n",
       "      <td>2024-07-14T04:30:55.982Z</td>\n",
       "      <td>2020-8</td>\n",
       "    </tr>\n",
       "    <tr>\n",
       "      <th>2</th>\n",
       "      <td>O3</td>\n",
       "      <td>C7402</td>\n",
       "      <td>P8320</td>\n",
       "      <td>64.59</td>\n",
       "      <td>1</td>\n",
       "      <td>2021-04-23 17:07:09</td>\n",
       "      <td>2024-07-14T04:30:55.982Z</td>\n",
       "      <td>2021-4</td>\n",
       "    </tr>\n",
       "    <tr>\n",
       "      <th>3</th>\n",
       "      <td>O4</td>\n",
       "      <td>C7356</td>\n",
       "      <td>P5165</td>\n",
       "      <td>63.51</td>\n",
       "      <td>0</td>\n",
       "      <td>2020-08-19 14:04:09</td>\n",
       "      <td>2024-07-14T04:30:55.982Z</td>\n",
       "      <td>2020-8</td>\n",
       "    </tr>\n",
       "    <tr>\n",
       "      <th>4</th>\n",
       "      <td>O5</td>\n",
       "      <td>C5806</td>\n",
       "      <td>P12940</td>\n",
       "      <td>6.37</td>\n",
       "      <td>1</td>\n",
       "      <td>2020-07-17 07:42:27</td>\n",
       "      <td>2024-07-14T04:30:55.982Z</td>\n",
       "      <td>2020-7</td>\n",
       "    </tr>\n",
       "  </tbody>\n",
       "</table>\n",
       "</div>"
      ],
      "text/plain": [
       "  order_id customer_id product_id  purchase_amount  is_reordered  \\\n",
       "0       O1       C5731        P16            93.26             1   \n",
       "1       O2       C3541     P12802            67.98             1   \n",
       "2       O3       C7402      P8320            64.59             1   \n",
       "3       O4       C7356      P5165            63.51             0   \n",
       "4       O5       C5806     P12940             6.37             1   \n",
       "\n",
       "          purchased_on                event_time year_month  \n",
       "0  2021-02-16 16:07:28  2024-07-14T04:30:55.982Z     2021-2  \n",
       "1  2020-08-07 06:57:31  2024-07-14T04:30:55.982Z     2020-8  \n",
       "2  2021-04-23 17:07:09  2024-07-14T04:30:55.982Z     2021-4  \n",
       "3  2020-08-19 14:04:09  2024-07-14T04:30:55.982Z     2020-8  \n",
       "4  2020-07-17 07:42:27  2024-07-14T04:30:55.982Z     2020-7  "
      ]
     },
     "execution_count": 7,
     "metadata": {},
     "output_type": "execute_result"
    }
   ],
   "source": [
    "df.head(5)"
   ]
  },
  {
   "cell_type": "markdown",
   "metadata": {},
   "source": [
    "# Groupby and partition \n",
    "Groupby and partition `orders` dataframe into multiple dataframes based on `year` and `month`"
   ]
  },
  {
   "cell_type": "code",
   "execution_count": 8,
   "metadata": {},
   "outputs": [],
   "source": [
    "grouped = df.groupby('year_month')"
   ]
  },
  {
   "cell_type": "code",
   "execution_count": 9,
   "metadata": {},
   "outputs": [],
   "source": [
    "for name, group in grouped:\n",
    "    partition_dir = f'../data/partitions/{name}'\n",
    "    if os.path.exists(partition_dir):\n",
    "        shutil.rmtree(partition_dir)\n",
    "    os.makedirs(partition_dir)\n",
    "    partition_df = group.drop('year_month', axis=1)\n",
    "    partition_df.to_csv(f'{partition_dir}/partition.csv', index=False)"
   ]
  },
  {
   "cell_type": "code",
   "execution_count": 12,
   "metadata": {},
   "outputs": [
    {
     "data": {
      "text/plain": [
       "'sagemaker-feature-store'"
      ]
     },
     "execution_count": 12,
     "metadata": {},
     "output_type": "execute_result"
    }
   ],
   "source": [
    "prefix"
   ]
  },
  {
   "cell_type": "markdown",
   "metadata": {},
   "source": [
    "# Copy partitions from local to S3 "
   ]
  },
  {
   "cell_type": "code",
   "execution_count": 10,
   "metadata": {},
   "outputs": [
    {
     "name": "stdout",
     "output_type": "stream",
     "text": [
      "upload: ../data/partitions/2020-1/partition.csv to s3://sagemaker-us-east-1-419974056037/sagemaker-feature-store/partitions/2020-1/partition.csv\n",
      "upload: ../data/partitions/2020-11/partition.csv to s3://sagemaker-us-east-1-419974056037/sagemaker-feature-store/partitions/2020-11/partition.csv\n",
      "upload: ../data/partitions/2020-12/partition.csv to s3://sagemaker-us-east-1-419974056037/sagemaker-feature-store/partitions/2020-12/partition.csv\n",
      "upload: ../data/partitions/2020-3/partition.csv to s3://sagemaker-us-east-1-419974056037/sagemaker-feature-store/partitions/2020-3/partition.csv\n",
      "upload: ../data/partitions/2020-4/partition.csv to s3://sagemaker-us-east-1-419974056037/sagemaker-feature-store/partitions/2020-4/partition.csv\n",
      "upload: ../data/partitions/2020-6/partition.csv to s3://sagemaker-us-east-1-419974056037/sagemaker-feature-store/partitions/2020-6/partition.csv\n",
      "upload: ../data/partitions/2020-10/partition.csv to s3://sagemaker-us-east-1-419974056037/sagemaker-feature-store/partitions/2020-10/partition.csv\n",
      "upload: ../data/partitions/2020-2/partition.csv to s3://sagemaker-us-east-1-419974056037/sagemaker-feature-store/partitions/2020-2/partition.csv\n",
      "upload: ../data/partitions/2020-8/partition.csv to s3://sagemaker-us-east-1-419974056037/sagemaker-feature-store/partitions/2020-8/partition.csv\n",
      "upload: ../data/partitions/2021-4/partition.csv to s3://sagemaker-us-east-1-419974056037/sagemaker-feature-store/partitions/2021-4/partition.csv\n",
      "upload: ../data/partitions/2021-2/partition.csv to s3://sagemaker-us-east-1-419974056037/sagemaker-feature-store/partitions/2021-2/partition.csv\n",
      "upload: ../data/partitions/2020-9/partition.csv to s3://sagemaker-us-east-1-419974056037/sagemaker-feature-store/partitions/2020-9/partition.csv\n",
      "upload: ../data/partitions/2021-5/partition.csv to s3://sagemaker-us-east-1-419974056037/sagemaker-feature-store/partitions/2021-5/partition.csv\n",
      "upload: ../data/partitions/2020-7/partition.csv to s3://sagemaker-us-east-1-419974056037/sagemaker-feature-store/partitions/2020-7/partition.csv\n",
      "upload: ../data/partitions/2021-1/partition.csv to s3://sagemaker-us-east-1-419974056037/sagemaker-feature-store/partitions/2021-1/partition.csv\n",
      "upload: ../data/partitions/2020-5/partition.csv to s3://sagemaker-us-east-1-419974056037/sagemaker-feature-store/partitions/2020-5/partition.csv\n",
      "upload: ../data/partitions/2021-3/partition.csv to s3://sagemaker-us-east-1-419974056037/sagemaker-feature-store/partitions/2021-3/partition.csv\n"
     ]
    }
   ],
   "source": [
    "!aws s3 cp ../data/partitions/ s3://{default_bucket}/{prefix}/partitions/ --recursive"
   ]
  },
  {
   "cell_type": "code",
   "execution_count": null,
   "metadata": {},
   "outputs": [],
   "source": []
  }
 ],
 "metadata": {
  "instance_type": "ml.t3.medium",
  "kernelspec": {
   "display_name": "Python 3 (ipykernel)",
   "language": "python",
   "name": "python3"
  },
  "language_info": {
   "codemirror_mode": {
    "name": "ipython",
    "version": 3
   },
   "file_extension": ".py",
   "mimetype": "text/x-python",
   "name": "python",
   "nbconvert_exporter": "python",
   "pygments_lexer": "ipython3",
   "version": "3.10.14"
  }
 },
 "nbformat": 4,
 "nbformat_minor": 4
}
